{
 "cells": [
  {
   "cell_type": "code",
   "execution_count": 1,
   "metadata": {},
   "outputs": [],
   "source": [
    "import pandas as pd \n",
    "import numpy as np \n",
    "import matplotlib.pyplot as plt \n",
    "import matplotlib.cm as cm\n",
    "import seaborn as sns \n",
    "import time \n",
    "from sklearn.model_selection import train_test_split \n",
    "from sklearn.metrics import accuracy_score, confusion_matrix, precision_recall_fscore_support \n",
    "%matplotlib inline\n",
    "from IPython.display import display\n",
    "from six import StringIO\n",
    "from matplotlib import pyplot as plt\n",
    "from matplotlib.lines import Line2D\n",
    "from sklearn.metrics import silhouette_samples, silhouette_score\n",
    "from scipy.stats import pearsonr\n",
    "from sklearn.utils import resample\n",
    "\n",
    "from sklearn.cluster import KMeans \n",
    "from sklearn import metrics\n",
    "from sklearn.metrics import pairwise_distances\n",
    "from sklearn.metrics.pairwise import euclidean_distances\n",
    "from sklearn.metrics import davies_bouldin_score\n",
    "\n",
    "from scipy.cluster.hierarchy import dendrogram, linkage\n",
    "from sklearn.cluster import AgglomerativeClustering\n"
   ]
  },
  {
   "cell_type": "code",
   "execution_count": 2,
   "metadata": {},
   "outputs": [],
   "source": [
    "import numpy as np\n",
    "import pandas as pd \n",
    "from sklearn.preprocessing import LabelEncoder\n",
    "\n",
    "DIAMETER_METHODS = ['mean_cluster', 'farthest']\n",
    "CLUSTER_DISTANCE_METHODS = ['nearest', 'farthest']\n",
    "\n",
    "\n",
    "def inter_cluster_distances(labels, distances, method='nearest'):\n",
    "  \n",
    "    if method not in CLUSTER_DISTANCE_METHODS:\n",
    "        raise ValueError(\n",
    "            'method must be one of {}'.format(CLUSTER_DISTANCE_METHODS))\n",
    "\n",
    "    if method == 'nearest':\n",
    "        return __cluster_distances_by_points(labels, distances)\n",
    "    elif method == 'farthest':\n",
    "        return __cluster_distances_by_points(labels, distances, farthest=True)\n",
    "\n",
    "\n",
    "def __cluster_distances_by_points(labels, distances, farthest=False):\n",
    "    n_unique_labels = len(np.unique(labels))\n",
    "    cluster_distances = np.full((n_unique_labels, n_unique_labels),\n",
    "                                float('inf') if not farthest else 0)\n",
    "\n",
    "    np.fill_diagonal(cluster_distances, 0)\n",
    "\n",
    "    for i in np.arange(0, len(labels) - 1):\n",
    "        for ii in np.arange(i, len(labels)):\n",
    "            if labels[i] != labels[ii] and (\n",
    "                (not farthest and\n",
    "                 distances[i, ii] < cluster_distances[labels[i], labels[ii]])\n",
    "                    or\n",
    "                (farthest and\n",
    "                 distances[i, ii] > cluster_distances[labels[i], labels[ii]])):\n",
    "                cluster_distances[labels[i], labels[ii]] = cluster_distances[\n",
    "                    labels[ii], labels[i]] = distances[i, ii]\n",
    "    return cluster_distances\n",
    "\n",
    "\n",
    "def diameter(labels, distances, method='farthest'):\n",
    "   \n",
    "    if method not in DIAMETER_METHODS:\n",
    "        raise ValueError('method must be one of {}'.format(DIAMETER_METHODS))\n",
    "\n",
    "    n_clusters = len(np.unique(labels))\n",
    "    diameters = np.zeros(n_clusters)\n",
    "\n",
    "    if method == 'mean_cluster':\n",
    "        for i in range(0, len(labels) - 1):\n",
    "            for ii in range(i + 1, len(labels)):\n",
    "                if labels[i] == labels[ii]:\n",
    "                    diameters[labels[i]] += distances[i, ii]\n",
    "\n",
    "        for i in range(len(diameters)):\n",
    "            diameters[i] /= sum(labels == i)\n",
    "\n",
    "    elif method == 'farthest':\n",
    "        for i in range(0, len(labels) - 1):\n",
    "            for ii in range(i + 1, len(labels)):\n",
    "                if labels[i] == labels[ii] and distances[i, ii] > diameters[\n",
    "                        labels[i]]:\n",
    "                    diameters[labels[i]] = distances[i, ii]\n",
    "    return diameters\n",
    "\n",
    "\n",
    "def dunn(labels, distances, diameter_method='farthest',\n",
    "         cdist_method='nearest'):\n",
    "    \n",
    "\n",
    "    labels = LabelEncoder().fit(labels).transform(labels)\n",
    "\n",
    "    ic_distances = inter_cluster_distances(labels, distances, cdist_method)\n",
    "    min_distance = min(ic_distances[ic_distances.nonzero()])\n",
    "    max_diameter = max(diameter(labels, distances, diameter_method))\n",
    "\n",
    "    return min_distance / max_diameter\n"
   ]
  },
  {
   "cell_type": "code",
   "execution_count": 3,
   "metadata": {},
   "outputs": [],
   "source": [
    "from IPython.display import display, HTML\n",
    "from sklearn.tree import _tree, DecisionTreeClassifier\n",
    "import pandas as pd\n",
    "\n",
    "def pretty_print(df):\n",
    "    return display( HTML( df.to_html().replace(\"\\\\n\",\"<br>\") ) )\n",
    "\n",
    "def get_class_rules(tree: DecisionTreeClassifier, feature_names: list):\n",
    "    inner_tree: _tree.Tree = tree.tree_\n",
    "    classes = tree.classes_\n",
    "    class_rules_dict = dict()\n",
    "    \n",
    "    \n",
    "    def tree_dfs(node_id=0, current_rule=[]):\n",
    "        split_feature = inner_tree.feature[node_id]\n",
    "        if split_feature != _tree.TREE_UNDEFINED: # internal node\n",
    "            name = feature_names[split_feature]\n",
    "            threshold = inner_tree.threshold[node_id]\n",
    "      # left child\n",
    "            left_rule = current_rule + [\"{} <= {}\".format(name, threshold)]\n",
    "            tree_dfs(inner_tree.children_left[node_id], left_rule)\n",
    "      # right child\n",
    "            right_rule = current_rule + [\"{} > {}\".format(name, threshold)]\n",
    "            tree_dfs(inner_tree.children_right[node_id], right_rule)\n",
    "        else: # leaf\n",
    "            dist = inner_tree.value[node_id][0]\n",
    "            dist = dist/dist.sum()\n",
    "            max_idx = dist.argmax()\n",
    "            if len(current_rule) == 0:\n",
    "                rule_string = \"ALL\"\n",
    "            else:\n",
    "                rule_string = \" and \".join(current_rule)\n",
    "      # register new rule to dictionary\n",
    "            selected_class = classes[max_idx]\n",
    "            class_probability = dist[max_idx]\n",
    "            class_rules = class_rules_dict.get(selected_class, [])\n",
    "            class_rules.append((rule_string, class_probability))\n",
    "            class_rules_dict[selected_class] = class_rules\n",
    "    \n",
    "    tree_dfs() # start from root, node_id = 0\n",
    "    return class_rules_dict\n",
    "\n",
    "def cluster_report(data: pd.DataFrame, clusters, min_samples_leaf=50, pruning_level=0.01):\n",
    "    tree = DecisionTreeClassifier(min_samples_leaf=min_samples_leaf, ccp_alpha=pruning_level)\n",
    "    tree.fit(data, clusters)\n",
    "    \n",
    "    # Generate Report\n",
    "    feature_names = data.columns\n",
    "    class_rule_dict = get_class_rules(tree, feature_names)\n",
    "\n",
    "    report_class_list = []\n",
    "    for class_name in class_rule_dict.keys():\n",
    "        rule_list = class_rule_dict[class_name]\n",
    "        combined_string = \"\"\n",
    "        for rule in rule_list:\n",
    "            combined_string += \"[{}] {}\\n\\n\".format(rule[1], rule[0])\n",
    "        report_class_list.append((class_name, combined_string))\n",
    "        \n",
    "    cluster_instance_df = pd.Series(clusters).value_counts().reset_index()\n",
    "    cluster_instance_df.columns = ['class_name', 'instance_count']\n",
    "    report_df = pd.DataFrame(report_class_list, columns=['class_name', 'rule_list'])\n",
    "    report_df = pd.merge(cluster_instance_df, report_df, on='class_name', how='left')\n",
    "    print(feature_names)\n",
    "    pretty_print(report_df.sort_values(by='class_name')[['class_name', 'instance_count', 'rule_list']])"
   ]
  },
  {
   "cell_type": "code",
   "execution_count": 4,
   "metadata": {},
   "outputs": [
    {
     "name": "stdout",
     "output_type": "stream",
     "text": [
      "<class 'pandas.core.frame.DataFrame'>\n",
      "RangeIndex: 300 entries, 0 to 299\n",
      "Data columns (total 9 columns):\n",
      " #   Column       Non-Null Count  Dtype\n",
      "---  ------       --------------  -----\n",
      " 0   AGEGROUP     300 non-null    int64\n",
      " 1   ageinmonths  300 non-null    int64\n",
      " 2   PV           300 non-null    int64\n",
      " 3   SR           300 non-null    int64\n",
      " 4   GU           300 non-null    int64\n",
      " 5   REFMNG       300 non-null    int64\n",
      " 6   RELMNG       300 non-null    int64\n",
      " 7   EL           300 non-null    int64\n",
      " 8   TOTAL        300 non-null    int64\n",
      "dtypes: int64(9)\n",
      "memory usage: 21.2 KB\n"
     ]
    }
   ],
   "source": [
    "dataf=pd.read_csv('FULL DATA.csv')\n",
    "\n",
    "dataf.info()"
   ]
  },
  {
   "cell_type": "markdown",
   "metadata": {},
   "source": [
    "# Peason correlation"
   ]
  },
  {
   "cell_type": "code",
   "execution_count": 5,
   "metadata": {},
   "outputs": [
    {
     "data": {
      "text/html": [
       "<div>\n",
       "<style scoped>\n",
       "    .dataframe tbody tr th:only-of-type {\n",
       "        vertical-align: middle;\n",
       "    }\n",
       "\n",
       "    .dataframe tbody tr th {\n",
       "        vertical-align: top;\n",
       "    }\n",
       "\n",
       "    .dataframe thead th {\n",
       "        text-align: right;\n",
       "    }\n",
       "</style>\n",
       "<table border=\"1\" class=\"dataframe\">\n",
       "  <thead>\n",
       "    <tr style=\"text-align: right;\">\n",
       "      <th></th>\n",
       "      <th>AGEGROUP</th>\n",
       "      <th>ageinmonths</th>\n",
       "      <th>PV</th>\n",
       "      <th>SR</th>\n",
       "      <th>GU</th>\n",
       "      <th>REFMNG</th>\n",
       "      <th>RELMNG</th>\n",
       "      <th>EL</th>\n",
       "      <th>TOTAL</th>\n",
       "    </tr>\n",
       "  </thead>\n",
       "  <tbody>\n",
       "    <tr>\n",
       "      <th>AGEGROUP</th>\n",
       "      <td>1.000000</td>\n",
       "      <td>0.989484</td>\n",
       "      <td>0.760785</td>\n",
       "      <td>0.744749</td>\n",
       "      <td>0.550699</td>\n",
       "      <td>0.791940</td>\n",
       "      <td>0.818825</td>\n",
       "      <td>0.815002</td>\n",
       "      <td>0.938661</td>\n",
       "    </tr>\n",
       "    <tr>\n",
       "      <th>ageinmonths</th>\n",
       "      <td>0.989484</td>\n",
       "      <td>1.000000</td>\n",
       "      <td>0.770036</td>\n",
       "      <td>0.753923</td>\n",
       "      <td>0.542752</td>\n",
       "      <td>0.799050</td>\n",
       "      <td>0.823412</td>\n",
       "      <td>0.809715</td>\n",
       "      <td>0.942078</td>\n",
       "    </tr>\n",
       "    <tr>\n",
       "      <th>PV</th>\n",
       "      <td>0.760785</td>\n",
       "      <td>0.770036</td>\n",
       "      <td>1.000000</td>\n",
       "      <td>0.647086</td>\n",
       "      <td>0.556428</td>\n",
       "      <td>0.647359</td>\n",
       "      <td>0.594285</td>\n",
       "      <td>0.668376</td>\n",
       "      <td>0.819717</td>\n",
       "    </tr>\n",
       "    <tr>\n",
       "      <th>SR</th>\n",
       "      <td>0.744749</td>\n",
       "      <td>0.753923</td>\n",
       "      <td>0.647086</td>\n",
       "      <td>1.000000</td>\n",
       "      <td>0.394013</td>\n",
       "      <td>0.619371</td>\n",
       "      <td>0.645616</td>\n",
       "      <td>0.650380</td>\n",
       "      <td>0.805296</td>\n",
       "    </tr>\n",
       "    <tr>\n",
       "      <th>GU</th>\n",
       "      <td>0.550699</td>\n",
       "      <td>0.542752</td>\n",
       "      <td>0.556428</td>\n",
       "      <td>0.394013</td>\n",
       "      <td>1.000000</td>\n",
       "      <td>0.356654</td>\n",
       "      <td>0.428535</td>\n",
       "      <td>0.538894</td>\n",
       "      <td>0.613950</td>\n",
       "    </tr>\n",
       "    <tr>\n",
       "      <th>REFMNG</th>\n",
       "      <td>0.791940</td>\n",
       "      <td>0.799050</td>\n",
       "      <td>0.647359</td>\n",
       "      <td>0.619371</td>\n",
       "      <td>0.356654</td>\n",
       "      <td>1.000000</td>\n",
       "      <td>0.693055</td>\n",
       "      <td>0.606768</td>\n",
       "      <td>0.812597</td>\n",
       "    </tr>\n",
       "    <tr>\n",
       "      <th>RELMNG</th>\n",
       "      <td>0.818825</td>\n",
       "      <td>0.823412</td>\n",
       "      <td>0.594285</td>\n",
       "      <td>0.645616</td>\n",
       "      <td>0.428535</td>\n",
       "      <td>0.693055</td>\n",
       "      <td>1.000000</td>\n",
       "      <td>0.680759</td>\n",
       "      <td>0.872470</td>\n",
       "    </tr>\n",
       "    <tr>\n",
       "      <th>EL</th>\n",
       "      <td>0.815002</td>\n",
       "      <td>0.809715</td>\n",
       "      <td>0.668376</td>\n",
       "      <td>0.650380</td>\n",
       "      <td>0.538894</td>\n",
       "      <td>0.606768</td>\n",
       "      <td>0.680759</td>\n",
       "      <td>1.000000</td>\n",
       "      <td>0.871268</td>\n",
       "    </tr>\n",
       "    <tr>\n",
       "      <th>TOTAL</th>\n",
       "      <td>0.938661</td>\n",
       "      <td>0.942078</td>\n",
       "      <td>0.819717</td>\n",
       "      <td>0.805296</td>\n",
       "      <td>0.613950</td>\n",
       "      <td>0.812597</td>\n",
       "      <td>0.872470</td>\n",
       "      <td>0.871268</td>\n",
       "      <td>1.000000</td>\n",
       "    </tr>\n",
       "  </tbody>\n",
       "</table>\n",
       "</div>"
      ],
      "text/plain": [
       "             AGEGROUP  ageinmonths        PV        SR        GU    REFMNG  \\\n",
       "AGEGROUP     1.000000     0.989484  0.760785  0.744749  0.550699  0.791940   \n",
       "ageinmonths  0.989484     1.000000  0.770036  0.753923  0.542752  0.799050   \n",
       "PV           0.760785     0.770036  1.000000  0.647086  0.556428  0.647359   \n",
       "SR           0.744749     0.753923  0.647086  1.000000  0.394013  0.619371   \n",
       "GU           0.550699     0.542752  0.556428  0.394013  1.000000  0.356654   \n",
       "REFMNG       0.791940     0.799050  0.647359  0.619371  0.356654  1.000000   \n",
       "RELMNG       0.818825     0.823412  0.594285  0.645616  0.428535  0.693055   \n",
       "EL           0.815002     0.809715  0.668376  0.650380  0.538894  0.606768   \n",
       "TOTAL        0.938661     0.942078  0.819717  0.805296  0.613950  0.812597   \n",
       "\n",
       "               RELMNG        EL     TOTAL  \n",
       "AGEGROUP     0.818825  0.815002  0.938661  \n",
       "ageinmonths  0.823412  0.809715  0.942078  \n",
       "PV           0.594285  0.668376  0.819717  \n",
       "SR           0.645616  0.650380  0.805296  \n",
       "GU           0.428535  0.538894  0.613950  \n",
       "REFMNG       0.693055  0.606768  0.812597  \n",
       "RELMNG       1.000000  0.680759  0.872470  \n",
       "EL           0.680759  1.000000  0.871268  \n",
       "TOTAL        0.872470  0.871268  1.000000  "
      ]
     },
     "execution_count": 5,
     "metadata": {},
     "output_type": "execute_result"
    }
   ],
   "source": [
    "dataf.corr(method = 'pearson', min_periods = 1)"
   ]
  },
  {
   "cell_type": "code",
   "execution_count": 6,
   "metadata": {},
   "outputs": [
    {
     "name": "stdout",
     "output_type": "stream",
     "text": [
      "GU and REFMNG is : 0.357\n",
      "AGEGROUP and ageinmonths is : 0.989\n"
     ]
    }
   ],
   "source": [
    "\n",
    "lc=list(dataf.columns)\n",
    "lc2=lc.copy()\n",
    "pcclist=[]\n",
    "\n",
    "minscore=2\n",
    "maxscore=0\n",
    "\n",
    "for n1 in lc:\n",
    "    #print('Correlation for '+n1)\n",
    "    #print(lc.index(n1))\n",
    "    lc2.remove(n1)\n",
    "    for n2 in lc2:\n",
    "        list1 = dataf[lc[lc.index(n1)]]\n",
    "        list2 = dataf[lc2[lc2.index(n2)]]\n",
    "        corr, _ = pearsonr(list1, list2)\n",
    "        name2=str(n1 +' and '+n2)\n",
    "        pccitem=[name2,corr]\n",
    "        pcclist.append(pccitem)\n",
    "        #print(name2)\n",
    "        #print(n1 +' and '+ n2 + ' is : %.3f' % corr)\n",
    "        #plt.scatter(dataf[lc[lc.index(n1)]], dataf[lc2[lc2.index(n2)]])\n",
    "        if corr< minscore:\n",
    "            minscore=corr\n",
    "            minatr1=n1\n",
    "            minatr2=n2\n",
    "        if corr> maxscore:\n",
    "            maxscore=corr\n",
    "            maxatr1=n1\n",
    "            maxatr2=n2\n",
    "\n",
    "print(minatr1 +' and '+ minatr2 + ' is : %.3f' % minscore)\n",
    "print(maxatr1 +' and '+ maxatr2 + ' is : %.3f' % maxscore)"
   ]
  },
  {
   "cell_type": "code",
   "execution_count": 7,
   "metadata": {},
   "outputs": [
    {
     "data": {
      "text/html": [
       "<div>\n",
       "<style scoped>\n",
       "    .dataframe tbody tr th:only-of-type {\n",
       "        vertical-align: middle;\n",
       "    }\n",
       "\n",
       "    .dataframe tbody tr th {\n",
       "        vertical-align: top;\n",
       "    }\n",
       "\n",
       "    .dataframe thead th {\n",
       "        text-align: right;\n",
       "    }\n",
       "</style>\n",
       "<table border=\"1\" class=\"dataframe\">\n",
       "  <thead>\n",
       "    <tr style=\"text-align: right;\">\n",
       "      <th></th>\n",
       "      <th>Attributes</th>\n",
       "      <th>Correlation</th>\n",
       "    </tr>\n",
       "  </thead>\n",
       "  <tbody>\n",
       "    <tr>\n",
       "      <th>26</th>\n",
       "      <td>GU and REFMNG</td>\n",
       "      <td>0.356654</td>\n",
       "    </tr>\n",
       "    <tr>\n",
       "      <th>21</th>\n",
       "      <td>SR and GU</td>\n",
       "      <td>0.394013</td>\n",
       "    </tr>\n",
       "    <tr>\n",
       "      <th>27</th>\n",
       "      <td>GU and RELMNG</td>\n",
       "      <td>0.428535</td>\n",
       "    </tr>\n",
       "    <tr>\n",
       "      <th>28</th>\n",
       "      <td>GU and EL</td>\n",
       "      <td>0.538894</td>\n",
       "    </tr>\n",
       "    <tr>\n",
       "      <th>10</th>\n",
       "      <td>ageinmonths and GU</td>\n",
       "      <td>0.542752</td>\n",
       "    </tr>\n",
       "    <tr>\n",
       "      <th>3</th>\n",
       "      <td>AGEGROUP and GU</td>\n",
       "      <td>0.550699</td>\n",
       "    </tr>\n",
       "    <tr>\n",
       "      <th>16</th>\n",
       "      <td>PV and GU</td>\n",
       "      <td>0.556428</td>\n",
       "    </tr>\n",
       "    <tr>\n",
       "      <th>18</th>\n",
       "      <td>PV and RELMNG</td>\n",
       "      <td>0.594285</td>\n",
       "    </tr>\n",
       "    <tr>\n",
       "      <th>31</th>\n",
       "      <td>REFMNG and EL</td>\n",
       "      <td>0.606768</td>\n",
       "    </tr>\n",
       "    <tr>\n",
       "      <th>29</th>\n",
       "      <td>GU and TOTAL</td>\n",
       "      <td>0.613950</td>\n",
       "    </tr>\n",
       "  </tbody>\n",
       "</table>\n",
       "</div>"
      ],
      "text/plain": [
       "            Attributes  Correlation\n",
       "26       GU and REFMNG     0.356654\n",
       "21           SR and GU     0.394013\n",
       "27       GU and RELMNG     0.428535\n",
       "28           GU and EL     0.538894\n",
       "10  ageinmonths and GU     0.542752\n",
       "3      AGEGROUP and GU     0.550699\n",
       "16           PV and GU     0.556428\n",
       "18       PV and RELMNG     0.594285\n",
       "31       REFMNG and EL     0.606768\n",
       "29        GU and TOTAL     0.613950"
      ]
     },
     "execution_count": 7,
     "metadata": {},
     "output_type": "execute_result"
    }
   ],
   "source": [
    "pccdf = pd.DataFrame(pcclist, columns =['Attributes', 'Correlation'])\n",
    "\n",
    "pccdf.sort_values(by='Correlation').head(10)\n"
   ]
  },
  {
   "cell_type": "code",
   "execution_count": 8,
   "metadata": {},
   "outputs": [
    {
     "name": "stdout",
     "output_type": "stream",
     "text": [
      "AGEGROUP          2.926421\n",
      "ageinmonths     107.581839\n",
      "PV               30.583099\n",
      "SR               26.069967\n",
      "GU               14.255017\n",
      "REFMNG           35.382598\n",
      "RELMNG          104.943266\n",
      "EL               81.527313\n",
      "TOTAL          1074.694437\n",
      "dtype: float64\n"
     ]
    }
   ],
   "source": [
    "print(dataf.var())"
   ]
  },
  {
   "cell_type": "code",
   "execution_count": 9,
   "metadata": {},
   "outputs": [
    {
     "data": {
      "text/plain": [
       "array([False,  True, False, False, False, False,  True,  True,  True])"
      ]
     },
     "execution_count": 9,
     "metadata": {},
     "output_type": "execute_result"
    }
   ],
   "source": [
    "from sklearn.feature_selection import VarianceThreshold\n",
    "\n",
    "vhold=VarianceThreshold(threshold=50)\n",
    "vhold.fit(dataf)\n",
    "vhold.get_support()"
   ]
  },
  {
   "cell_type": "markdown",
   "metadata": {},
   "source": [
    "# Drop features"
   ]
  },
  {
   "cell_type": "code",
   "execution_count": 21,
   "metadata": {
    "scrolled": true
   },
   "outputs": [
    {
     "data": {
      "text/html": [
       "<div>\n",
       "<style scoped>\n",
       "    .dataframe tbody tr th:only-of-type {\n",
       "        vertical-align: middle;\n",
       "    }\n",
       "\n",
       "    .dataframe tbody tr th {\n",
       "        vertical-align: top;\n",
       "    }\n",
       "\n",
       "    .dataframe thead th {\n",
       "        text-align: right;\n",
       "    }\n",
       "</style>\n",
       "<table border=\"1\" class=\"dataframe\">\n",
       "  <thead>\n",
       "    <tr style=\"text-align: right;\">\n",
       "      <th></th>\n",
       "      <th>GU</th>\n",
       "      <th>REFMNG</th>\n",
       "      <th>RELMNG</th>\n",
       "      <th>EL</th>\n",
       "    </tr>\n",
       "  </thead>\n",
       "  <tbody>\n",
       "    <tr>\n",
       "      <th>0</th>\n",
       "      <td>3</td>\n",
       "      <td>8</td>\n",
       "      <td>4</td>\n",
       "      <td>2</td>\n",
       "    </tr>\n",
       "    <tr>\n",
       "      <th>1</th>\n",
       "      <td>6</td>\n",
       "      <td>1</td>\n",
       "      <td>4</td>\n",
       "      <td>0</td>\n",
       "    </tr>\n",
       "    <tr>\n",
       "      <th>2</th>\n",
       "      <td>7</td>\n",
       "      <td>0</td>\n",
       "      <td>2</td>\n",
       "      <td>0</td>\n",
       "    </tr>\n",
       "    <tr>\n",
       "      <th>3</th>\n",
       "      <td>11</td>\n",
       "      <td>0</td>\n",
       "      <td>0</td>\n",
       "      <td>1</td>\n",
       "    </tr>\n",
       "    <tr>\n",
       "      <th>4</th>\n",
       "      <td>10</td>\n",
       "      <td>2</td>\n",
       "      <td>0</td>\n",
       "      <td>0</td>\n",
       "    </tr>\n",
       "  </tbody>\n",
       "</table>\n",
       "</div>"
      ],
      "text/plain": [
       "   GU  REFMNG  RELMNG  EL\n",
       "0   3       8       4   2\n",
       "1   6       1       4   0\n",
       "2   7       0       2   0\n",
       "3  11       0       0   1\n",
       "4  10       2       0   0"
      ]
     },
     "execution_count": 21,
     "metadata": {},
     "output_type": "execute_result"
    }
   ],
   "source": [
    "df=dataf.drop(['AGEGROUP', 'ageinmonths','TOTAL','PV','SR'], axis = 1)\n",
    "df.head()"
   ]
  },
  {
   "cell_type": "code",
   "execution_count": 11,
   "metadata": {},
   "outputs": [
    {
     "name": "stdout",
     "output_type": "stream",
     "text": [
      "     RELMNG  EL\n",
      "0         4   2\n",
      "1         4   0\n",
      "2         2   0\n",
      "3         0   1\n",
      "4         0   0\n",
      "..      ...  ..\n",
      "295      20  18\n",
      "296      33  24\n",
      "297      33  25\n",
      "298      32  28\n",
      "299      33  28\n",
      "\n",
      "[300 rows x 2 columns]\n"
     ]
    }
   ],
   "source": [
    "a1=2\n",
    "a2=3\n",
    "xatt=df.iloc[:,lambda df: [a1,a2]]\n",
    "print(xatt)"
   ]
  },
  {
   "cell_type": "markdown",
   "metadata": {},
   "source": [
    "# sampling"
   ]
  },
  {
   "cell_type": "code",
   "execution_count": 16,
   "metadata": {},
   "outputs": [
    {
     "name": "stdout",
     "output_type": "stream",
     "text": [
      "357 0.4472407588569422\n",
      "351 0.10314212462587935\n"
     ]
    },
    {
     "data": {
      "image/png": "[encoded data removed]",
      "text/plain": [
       "<Figure size 432x288 with 1 Axes>"
      ]
     },
     "metadata": {
      "needs_background": "light"
     },
     "output_type": "display_data"
    },
    {
     "data": {
      "image/png": "[encoded data removed]",
      "text/plain": [
       "<Figure size 432x288 with 1 Axes>"
      ]
     },
     "metadata": {
      "needs_background": "light"
     },
     "output_type": "display_data"
    }
   ],
   "source": [
    "\n",
    "\n",
    "lendf= int(len(df))\n",
    "doublelen=4*lendf\n",
    "\n",
    "samsil=[]\n",
    "samdun=[]\n",
    "\n",
    "maxsil=0\n",
    "maxdun=0\n",
    "optimalsil=0\n",
    "optimalsdun=0\n",
    "\n",
    "diameter_method='farthest'\n",
    "cdist_method='nearest'\n",
    "\n",
    "for i in range (lendf,doublelen):\n",
    "    dfsmloop = resample(df , n_samples=i)\n",
    "    kmeansm = KMeans(numk)\n",
    "    kmeansm.fit(dfsmloop)\n",
    "    scoresmloop = metrics.silhouette_score(dfsmloop, kmeansm.labels_, metric='euclidean')\n",
    "    samsil.append(scoresmloop)\n",
    "    \n",
    "    if scoresmloop > maxsil:\n",
    "        optimalsil=i\n",
    "        maxsil= scoresmloop\n",
    "        dfsm=dfsmloop.copy()\n",
    "    \n",
    "    labelkm = kmeansm.fit_predict(dfsmloop)\n",
    "    d = euclidean_distances(dfsmloop)\n",
    "    dunkm = dunn(labelkm, d, diameter_method, cdist_method)\n",
    "    samdun.append(dunkm)\n",
    "    \n",
    "    if dunkm > maxdun:\n",
    "        optimaldun=i\n",
    "        maxdun=dunkm\n",
    "\n",
    "\n",
    "print (optimalsil,maxsil)\n",
    "print(optimaldun,maxdun)\n",
    "\n",
    "\n",
    "number_sampling = range(lendf,doublelen)\n",
    "plt.plot(number_sampling,samsil)\n",
    "plt.title('Silhouette title')\n",
    "plt.xlabel('Number of sample')\n",
    "plt.ylabel('Silhouette score')\n",
    "plt.show()\n",
    "\n",
    "plt.plot(number_sampling,samdun)\n",
    "plt.title('Dunn title')\n",
    "plt.xlabel('Number of sample')\n",
    "plt.ylabel('Dunn score')\n",
    "plt.show()"
   ]
  },
  {
   "cell_type": "code",
   "execution_count": 12,
   "metadata": {
    "scrolled": true
   },
   "outputs": [
    {
     "name": "stdout",
     "output_type": "stream",
     "text": [
      "<class 'pandas.core.frame.DataFrame'>\n",
      "Int64Index: 610 entries, 126 to 182\n",
      "Data columns (total 4 columns):\n",
      " #   Column  Non-Null Count  Dtype\n",
      "---  ------  --------------  -----\n",
      " 0   GU      610 non-null    int64\n",
      " 1   REFMNG  610 non-null    int64\n",
      " 2   RELMNG  610 non-null    int64\n",
      " 3   EL      610 non-null    int64\n",
      "dtypes: int64(4)\n",
      "memory usage: 23.8 KB\n",
      "     RELMNG  EL\n",
      "126       3  16\n",
      "105       2  12\n",
      "85        0   0\n",
      "192       8   7\n",
      "172      10   6\n",
      "..      ...  ..\n",
      "62        3   4\n",
      "36        3   0\n",
      "220      20  13\n",
      "247      28  20\n",
      "182       5  10\n",
      "\n",
      "[610 rows x 2 columns]\n"
     ]
    }
   ],
   "source": [
    "doublelen=int(2*len(df))\n",
    "doublelen=doublelen+10\n",
    "\n",
    "dfsm = resample(df , n_samples=doublelen)\n",
    "dfsm.info()\n",
    "\n",
    "a1=2\n",
    "a2=3\n",
    "xatt2=dfsm.iloc[:,lambda df: [a1,a2]]\n",
    "print(xatt2)"
   ]
  },
  {
   "cell_type": "markdown",
   "metadata": {},
   "source": [
    "# Kmeans k=300"
   ]
  },
  {
   "cell_type": "code",
   "execution_count": 13,
   "metadata": {
    "scrolled": true
   },
   "outputs": [
    {
     "name": "stdout",
     "output_type": "stream",
     "text": [
      "5\n"
     ]
    },
    {
     "data": {
      "text/plain": [
       "<matplotlib.collections.LineCollection at 0x23c92715d00>"
      ]
     },
     "execution_count": 13,
     "metadata": {},
     "output_type": "execute_result"
    },
    {
     "data": {
      "image/png": "[encoded data removed]",
      "text/plain": [
       "<Figure size 432x288 with 1 Axes>"
      ]
     },
     "metadata": {
      "needs_background": "light"
     },
     "output_type": "display_data"
    }
   ],
   "source": [
    "wcss=[]\n",
    "prev=0\n",
    "\n",
    "for i in range(2,12):\n",
    "    kmeans = KMeans(i)\n",
    "    kmeans.fit(xatt2)\n",
    "    wcss_iter = kmeans.inertia_\n",
    "    if prev==0:\n",
    "        prev=wcss_iter\n",
    "    else:\n",
    "        #print(i-1,i,prev-wcss_iter)\n",
    "        prev=wcss_iter\n",
    "    wcss.append(wcss_iter)\n",
    "    \n",
    "\n",
    "\n",
    "number_clusters = range(2,12)\n",
    "\n",
    "from kneed import KneeLocator\n",
    "\n",
    "kn = KneeLocator(number_clusters, wcss, curve='convex', direction='decreasing')\n",
    "print(kn.knee)\n",
    "\n",
    "\n",
    "plt.plot(number_clusters,wcss)\n",
    "plt.title('The Elbow title')\n",
    "plt.xlabel('Number of clusters')\n",
    "plt.ylabel('WCSS')\n",
    "plt.vlines(kn.knee, plt.ylim()[0], plt.ylim()[1], linestyles='dashed')\n"
   ]
  },
  {
   "cell_type": "code",
   "execution_count": 15,
   "metadata": {},
   "outputs": [],
   "source": [
    "numk=4"
   ]
  },
  {
   "cell_type": "markdown",
   "metadata": {},
   "source": [
    "# kmeas 600 all features\n"
   ]
  },
  {
   "cell_type": "code",
   "execution_count": 16,
   "metadata": {},
   "outputs": [
    {
     "name": "stdout",
     "output_type": "stream",
     "text": [
      "0.37018283561874704 0.2268046058132572 1.0244928323975084\n"
     ]
    },
    {
     "data": {
      "text/plain": [
       "\"\\nfig, ax = plt.subplots() \\nplt.scatter(xatt.iloc[:,0], xatt.iloc[:,1], c=kmean.labels_) \\nplt.scatter(kmean.cluster_centers_[:,0], kmean.cluster_centers_[:,1],marker='x', color='red')\\n\\n\""
      ]
     },
     "execution_count": 16,
     "metadata": {},
     "output_type": "execute_result"
    }
   ],
   "source": [
    "kmean = KMeans(n_clusters = numk, init = \"k-means++\")\n",
    "kmean.fit(dfsm)\n",
    "\n",
    "from sklearn.metrics.pairwise import euclidean_distances\n",
    "\n",
    "labelkm = kmean.fit_predict(dfsm)\n",
    "scoresm = metrics.silhouette_score(dfsm, kmean.labels_, metric='euclidean')\n",
    "\n",
    "d = euclidean_distances(dfsm)\n",
    "diameter_method='farthest'\n",
    "cdist_method='nearest'\n",
    "dunkm = dunn(labelkm, d, diameter_method, cdist_method)\n",
    "dunkm=dunkm*5\n",
    "dasm=davies_bouldin_score(dfsm, labelkm)\n",
    "\n",
    "\n",
    "print(scoresm,dunkm,dasm)\n",
    "\n",
    "\"\"\"\n",
    "fig, ax = plt.subplots() \n",
    "plt.scatter(xatt.iloc[:,0], xatt.iloc[:,1], c=kmean.labels_) \n",
    "plt.scatter(kmean.cluster_centers_[:,0], kmean.cluster_centers_[:,1],marker='x', color='red')\n",
    "\n",
    "\"\"\"\n"
   ]
  },
  {
   "cell_type": "code",
   "execution_count": 17,
   "metadata": {},
   "outputs": [
    {
     "name": "stdout",
     "output_type": "stream",
     "text": [
      "0.4186224423878242 0.25189636092993917 0.884835852151303\n"
     ]
    }
   ],
   "source": [
    "# 3 dimension\n",
    "\n",
    "dfcopy=dfsm.copy(deep=False)\n",
    "lc=list(dfsm.columns)\n",
    "lc2=lc.copy()\n",
    "lenlist=len(lc)\n",
    "#silhlist=[]\n",
    "maxsilh=0\n",
    "maxdun=0\n",
    "minda=2\n",
    "\n",
    "\n",
    "for n1 in lc:\n",
    "    #print('Correlation for '+n1)\n",
    "    #print(lc.index(n1))\n",
    "    dfcopy=dfsm.copy(deep=False)\n",
    "    xatt=dfcopy.drop(columns=[n1],axis=1)\n",
    "    #print(xatt)\n",
    "    kmeans1 = KMeans(numk)\n",
    "    kmeans1.fit(xatt)\n",
    "    labelkm = kmeans1.fit_predict(xatt)\n",
    "    scoresm = metrics.silhouette_score(xatt, kmeans1.labels_, metric='euclidean')\n",
    "    \n",
    "    d = euclidean_distances(xatt)\n",
    "    dunkm = dunn(labelkm, d, diameter_method, cdist_method)\n",
    "    dunkm=dunkm*5\n",
    "    dasm=davies_bouldin_score(xatt, labelkm)\n",
    "\n",
    "    #silhlist.append(silhitem)\n",
    "    if scoresm> maxsilh:\n",
    "        maxsilh=scoresm\n",
    "    if dunkm > maxdun:\n",
    "        maxdun=dunkm\n",
    "    if dasm < minda:\n",
    "        minda= dasm\n",
    "\n",
    "print(maxsilh,maxdun, minda)"
   ]
  },
  {
   "cell_type": "markdown",
   "metadata": {},
   "source": [
    "# kmeas 300 x=2"
   ]
  },
  {
   "cell_type": "code",
   "execution_count": 44,
   "metadata": {},
   "outputs": [
    {
     "name": "stdout",
     "output_type": "stream",
     "text": [
      "Index(['GU', 'REFMNG'], dtype='object')\n"
     ]
    },
    {
     "data": {
      "text/html": [
       "<table border=\"1\" class=\"dataframe\">\n",
       "  <thead>\n",
       "    <tr style=\"text-align: right;\">\n",
       "      <th></th>\n",
       "      <th>class_name</th>\n",
       "      <th>instance_count</th>\n",
       "      <th>rule_list</th>\n",
       "    </tr>\n",
       "  </thead>\n",
       "  <tbody>\n",
       "    <tr>\n",
       "      <th>0</th>\n",
       "      <td>0</td>\n",
       "      <td>103</td>\n",
       "      <td>[0.6078431372549019] REFMNG &gt; 13.5 and GU &lt;= 11.5<br><br>[1.0] REFMNG &gt; 13.5 and GU &gt; 11.5<br><br></td>\n",
       "    </tr>\n",
       "    <tr>\n",
       "      <th>1</th>\n",
       "      <td>1</td>\n",
       "      <td>89</td>\n",
       "      <td>[0.8269230769230769] REFMNG &lt;= 13.5 and REFMNG &gt; 5.5<br><br></td>\n",
       "    </tr>\n",
       "    <tr>\n",
       "      <th>2</th>\n",
       "      <td>2</td>\n",
       "      <td>75</td>\n",
       "      <td>[0.9733333333333334] REFMNG &lt;= 13.5 and REFMNG &lt;= 5.5<br><br></td>\n",
       "    </tr>\n",
       "    <tr>\n",
       "      <th>3</th>\n",
       "      <td>3</td>\n",
       "      <td>33</td>\n",
       "      <td>NaN</td>\n",
       "    </tr>\n",
       "  </tbody>\n",
       "</table>"
      ],
      "text/plain": [
       "<IPython.core.display.HTML object>"
      ]
     },
     "metadata": {},
     "output_type": "display_data"
    },
    {
     "name": "stdout",
     "output_type": "stream",
     "text": [
      "The average silhouette_score is : 0.4409721642789753\n"
     ]
    },
    {
     "data": {
      "image/png": "[encoded data removed]",
      "text/plain": [
       "<Figure size 360x360 with 1 Axes>"
      ]
     },
     "metadata": {
      "needs_background": "light"
     },
     "output_type": "display_data"
    },
    {
     "name": "stdout",
     "output_type": "stream",
     "text": [
      "Index(['GU', 'RELMNG'], dtype='object')\n"
     ]
    },
    {
     "data": {
      "text/html": [
       "<table border=\"1\" class=\"dataframe\">\n",
       "  <thead>\n",
       "    <tr style=\"text-align: right;\">\n",
       "      <th></th>\n",
       "      <th>class_name</th>\n",
       "      <th>instance_count</th>\n",
       "      <th>rule_list</th>\n",
       "    </tr>\n",
       "  </thead>\n",
       "  <tbody>\n",
       "    <tr>\n",
       "      <th>0</th>\n",
       "      <td>0</td>\n",
       "      <td>147</td>\n",
       "      <td>[0.9932432432432432] RELMNG &lt;= 7.5<br><br></td>\n",
       "    </tr>\n",
       "    <tr>\n",
       "      <th>1</th>\n",
       "      <td>1</td>\n",
       "      <td>66</td>\n",
       "      <td>[0.6770833333333334] RELMNG &gt; 7.5 and RELMNG &gt; 17.5<br><br></td>\n",
       "    </tr>\n",
       "    <tr>\n",
       "      <th>2</th>\n",
       "      <td>2</td>\n",
       "      <td>57</td>\n",
       "      <td>[0.9821428571428571] RELMNG &gt; 7.5 and RELMNG &lt;= 17.5<br><br></td>\n",
       "    </tr>\n",
       "    <tr>\n",
       "      <th>3</th>\n",
       "      <td>3</td>\n",
       "      <td>30</td>\n",
       "      <td>NaN</td>\n",
       "    </tr>\n",
       "  </tbody>\n",
       "</table>"
      ],
      "text/plain": [
       "<IPython.core.display.HTML object>"
      ]
     },
     "metadata": {},
     "output_type": "display_data"
    },
    {
     "name": "stdout",
     "output_type": "stream",
     "text": [
      "The average silhouette_score is : 0.47036009396726003\n"
     ]
    },
    {
     "data": {
      "image/png": "[encoded data removed]",
      "text/plain": [
       "<Figure size 360x360 with 1 Axes>"
      ]
     },
     "metadata": {
      "needs_background": "light"
     },
     "output_type": "display_data"
    },
    {
     "name": "stdout",
     "output_type": "stream",
     "text": [
      "Index(['GU', 'EL'], dtype='object')\n"
     ]
    },
    {
     "data": {
      "text/html": [
       "<table border=\"1\" class=\"dataframe\">\n",
       "  <thead>\n",
       "    <tr style=\"text-align: right;\">\n",
       "      <th></th>\n",
       "      <th>class_name</th>\n",
       "      <th>instance_count</th>\n",
       "      <th>rule_list</th>\n",
       "    </tr>\n",
       "  </thead>\n",
       "  <tbody>\n",
       "    <tr>\n",
       "      <th>3</th>\n",
       "      <td>0</td>\n",
       "      <td>43</td>\n",
       "      <td>NaN</td>\n",
       "    </tr>\n",
       "    <tr>\n",
       "      <th>1</th>\n",
       "      <td>1</td>\n",
       "      <td>83</td>\n",
       "      <td>[0.8461538461538461] EL &gt; 3.5 and EL &lt;= 11.5<br><br></td>\n",
       "    </tr>\n",
       "    <tr>\n",
       "      <th>2</th>\n",
       "      <td>2</td>\n",
       "      <td>59</td>\n",
       "      <td>[0.56] EL &gt; 3.5 and EL &gt; 11.5<br><br></td>\n",
       "    </tr>\n",
       "    <tr>\n",
       "      <th>0</th>\n",
       "      <td>3</td>\n",
       "      <td>115</td>\n",
       "      <td>[0.9541284403669725] EL &lt;= 3.5<br><br></td>\n",
       "    </tr>\n",
       "  </tbody>\n",
       "</table>"
      ],
      "text/plain": [
       "<IPython.core.display.HTML object>"
      ]
     },
     "metadata": {},
     "output_type": "display_data"
    },
    {
     "name": "stdout",
     "output_type": "stream",
     "text": [
      "The average silhouette_score is : 0.42133376122417265\n"
     ]
    },
    {
     "data": {
      "image/png": "[encoded data removed]",
      "text/plain": [
       "<Figure size 360x360 with 1 Axes>"
      ]
     },
     "metadata": {
      "needs_background": "light"
     },
     "output_type": "display_data"
    },
    {
     "name": "stdout",
     "output_type": "stream",
     "text": [
      "Index(['REFMNG', 'RELMNG'], dtype='object')\n"
     ]
    },
    {
     "data": {
      "text/html": [
       "<table border=\"1\" class=\"dataframe\">\n",
       "  <thead>\n",
       "    <tr style=\"text-align: right;\">\n",
       "      <th></th>\n",
       "      <th>class_name</th>\n",
       "      <th>instance_count</th>\n",
       "      <th>rule_list</th>\n",
       "    </tr>\n",
       "  </thead>\n",
       "  <tbody>\n",
       "    <tr>\n",
       "      <th>2</th>\n",
       "      <td>0</td>\n",
       "      <td>67</td>\n",
       "      <td>[0.9571428571428572] REFMNG &gt; 6.5 and RELMNG &gt; 10.5 and RELMNG &gt; 20.5<br><br></td>\n",
       "    </tr>\n",
       "    <tr>\n",
       "      <th>0</th>\n",
       "      <td>1</td>\n",
       "      <td>83</td>\n",
       "      <td>[0.9764705882352941] REFMNG &gt; 6.5 and RELMNG &lt;= 10.5<br><br></td>\n",
       "    </tr>\n",
       "    <tr>\n",
       "      <th>3</th>\n",
       "      <td>2</td>\n",
       "      <td>67</td>\n",
       "      <td>[1.0] REFMNG &gt; 6.5 and RELMNG &gt; 10.5 and RELMNG &lt;= 20.5<br><br></td>\n",
       "    </tr>\n",
       "    <tr>\n",
       "      <th>1</th>\n",
       "      <td>3</td>\n",
       "      <td>83</td>\n",
       "      <td>[1.0] REFMNG &lt;= 6.5<br><br></td>\n",
       "    </tr>\n",
       "  </tbody>\n",
       "</table>"
      ],
      "text/plain": [
       "<IPython.core.display.HTML object>"
      ]
     },
     "metadata": {},
     "output_type": "display_data"
    },
    {
     "name": "stdout",
     "output_type": "stream",
     "text": [
      "The average silhouette_score is : 0.5015804352049544\n"
     ]
    },
    {
     "data": {
      "image/png": "[encoded data removed]",
      "text/plain": [
       "<Figure size 360x360 with 1 Axes>"
      ]
     },
     "metadata": {
      "needs_background": "light"
     },
     "output_type": "display_data"
    },
    {
     "name": "stdout",
     "output_type": "stream",
     "text": [
      "Index(['REFMNG', 'EL'], dtype='object')\n"
     ]
    },
    {
     "data": {
      "text/html": [
       "<table border=\"1\" class=\"dataframe\">\n",
       "  <thead>\n",
       "    <tr style=\"text-align: right;\">\n",
       "      <th></th>\n",
       "      <th>class_name</th>\n",
       "      <th>instance_count</th>\n",
       "      <th>rule_list</th>\n",
       "    </tr>\n",
       "  </thead>\n",
       "  <tbody>\n",
       "    <tr>\n",
       "      <th>2</th>\n",
       "      <td>0</td>\n",
       "      <td>66</td>\n",
       "      <td>[0.9206349206349206] REFMNG &gt; 6.5 and EL &gt; 9.5 and EL &lt;= 18.5<br><br></td>\n",
       "    </tr>\n",
       "    <tr>\n",
       "      <th>0</th>\n",
       "      <td>1</td>\n",
       "      <td>109</td>\n",
       "      <td>[0.9716981132075472] REFMNG &gt; 6.5 and EL &lt;= 9.5<br><br></td>\n",
       "    </tr>\n",
       "    <tr>\n",
       "      <th>1</th>\n",
       "      <td>2</td>\n",
       "      <td>81</td>\n",
       "      <td>[0.9629629629629629] REFMNG &lt;= 6.5<br><br></td>\n",
       "    </tr>\n",
       "    <tr>\n",
       "      <th>3</th>\n",
       "      <td>3</td>\n",
       "      <td>44</td>\n",
       "      <td>[0.84] REFMNG &gt; 6.5 and EL &gt; 9.5 and EL &gt; 18.5<br><br></td>\n",
       "    </tr>\n",
       "  </tbody>\n",
       "</table>"
      ],
      "text/plain": [
       "<IPython.core.display.HTML object>"
      ]
     },
     "metadata": {},
     "output_type": "display_data"
    },
    {
     "name": "stdout",
     "output_type": "stream",
     "text": [
      "The average silhouette_score is : 0.4874545000991161\n"
     ]
    },
    {
     "data": {
      "image/png": "[encoded data removed]",
      "text/plain": [
       "<Figure size 360x360 with 1 Axes>"
      ]
     },
     "metadata": {
      "needs_background": "light"
     },
     "output_type": "display_data"
    },
    {
     "name": "stdout",
     "output_type": "stream",
     "text": [
      "Index(['RELMNG', 'EL'], dtype='object')\n"
     ]
    },
    {
     "data": {
      "text/html": [
       "<table border=\"1\" class=\"dataframe\">\n",
       "  <thead>\n",
       "    <tr style=\"text-align: right;\">\n",
       "      <th></th>\n",
       "      <th>class_name</th>\n",
       "      <th>instance_count</th>\n",
       "      <th>rule_list</th>\n",
       "    </tr>\n",
       "  </thead>\n",
       "  <tbody>\n",
       "    <tr>\n",
       "      <th>0</th>\n",
       "      <td>0</td>\n",
       "      <td>149</td>\n",
       "      <td>[1.0] RELMNG &lt;= 10.5 and EL &lt;= 4.5<br><br>[0.7090909090909091] RELMNG &lt;= 10.5 and EL &gt; 4.5<br><br></td>\n",
       "    </tr>\n",
       "    <tr>\n",
       "      <th>3</th>\n",
       "      <td>1</td>\n",
       "      <td>29</td>\n",
       "      <td>NaN</td>\n",
       "    </tr>\n",
       "    <tr>\n",
       "      <th>2</th>\n",
       "      <td>2</td>\n",
       "      <td>60</td>\n",
       "      <td>[0.7681159420289855] RELMNG &gt; 10.5 and EL &gt; 14.5<br><br></td>\n",
       "    </tr>\n",
       "    <tr>\n",
       "      <th>1</th>\n",
       "      <td>3</td>\n",
       "      <td>62</td>\n",
       "      <td>[0.8787878787878788] RELMNG &gt; 10.5 and EL &lt;= 14.5<br><br></td>\n",
       "    </tr>\n",
       "  </tbody>\n",
       "</table>"
      ],
      "text/plain": [
       "<IPython.core.display.HTML object>"
      ]
     },
     "metadata": {},
     "output_type": "display_data"
    },
    {
     "name": "stdout",
     "output_type": "stream",
     "text": [
      "The average silhouette_score is : 0.5193194458665288\n"
     ]
    },
    {
     "data": {
      "image/png": "[encoded data removed]",
      "text/plain": [
       "<Figure size 360x360 with 1 Axes>"
      ]
     },
     "metadata": {
      "needs_background": "light"
     },
     "output_type": "display_data"
    }
   ],
   "source": [
    "lc=list(df.columns)\n",
    "lc2=lc.copy()\n",
    "#silhlist=[]\n",
    "\n",
    "for n1 in lc:\n",
    "    #print('Correlation for '+n1)\n",
    "    #print(lc.index(n1))\n",
    "    lc2.remove(n1)\n",
    "    for n2 in lc2:\n",
    "        aa1=lc.index(n1)\n",
    "        aa2=lc.index(n2)\n",
    "        xatt2=df.iloc[:,lambda df: [aa1, aa2]]\n",
    "        \n",
    "        kmeans1 = KMeans(numk)\n",
    "        kmeans1.fit(xatt2)\n",
    "        identified_clusters = kmeans1.fit_predict(xatt2)\n",
    "        cluster_labels=kmeans1.labels_\n",
    "        \n",
    "        scoresm = metrics.silhouette_score(xatt2, kmeans1.labels_, metric='euclidean')\n",
    "        #silhitem=[lc[lc.index(n1)],lc2[lc2.index(n2)],scoresm]\n",
    "        #silhlist.append(silhitem)\n",
    "        \n",
    "        cluster_report(xatt2, identified_clusters, min_samples_leaf=50, pruning_level=0.01)\n",
    "        \n",
    "        #silhouette_avg = silhouette_score(X, cluster_labels)\n",
    "        if scoresm > 0.4:\n",
    "            print(\"The average silhouette_score is :\", scoresm)\n",
    "            fig, ax1 = plt.subplots()\n",
    "\n",
    "            fig.set_size_inches(5, 5)\n",
    "\n",
    "            ax1.set_xlim([-0.1, 1])\n",
    "            ax1.set_ylim([0, len(xatt2) + (numk + 1) * 10])\n",
    "\n",
    "            sample_silhouette_values = silhouette_samples(xatt2, cluster_labels)\n",
    "\n",
    "            y_lower = 10\n",
    "            for i in range(numk):\n",
    "                ith_cluster_silhouette_values = \\\n",
    "                        sample_silhouette_values[cluster_labels == i]\n",
    "\n",
    "                ith_cluster_silhouette_values.sort()\n",
    "\n",
    "                size_cluster_i = ith_cluster_silhouette_values.shape[0]\n",
    "                y_upper = y_lower + size_cluster_i\n",
    "\n",
    "                color = cm.nipy_spectral(float(i) / numk)\n",
    "                ax1.fill_betweenx(np.arange(y_lower, y_upper),\n",
    "                                  0, ith_cluster_silhouette_values,\n",
    "                                  facecolor=color, edgecolor=color, alpha=0.7)\n",
    "                ax1.text(-0.05, y_lower + 0.5 * size_cluster_i, str(i))\n",
    "                y_lower = y_upper + 10  # 10 for the 0 samples\n",
    "  \n",
    "            ax1.set_title(\"The silhouette plot for \" + lc[lc.index(n1)] + ' and '+ lc2[lc2.index(n2)])\n",
    "            ax1.set_xlabel(\"The silhouette coefficient values\")\n",
    "            ax1.set_ylabel(\"Cluster label\")\n",
    "            ax1.axvline(x=scoresm, color=\"red\", linestyle=\"--\")\n",
    "            \n",
    "            \n",
    "        plt.show()"
   ]
  },
  {
   "cell_type": "markdown",
   "metadata": {},
   "source": [
    "# k-means sampling"
   ]
  },
  {
   "cell_type": "code",
   "execution_count": 24,
   "metadata": {},
   "outputs": [
    {
     "name": "stdout",
     "output_type": "stream",
     "text": [
      "2 3 11991.250934484386\n",
      "3 4 5782.197360032387\n",
      "4 5 4301.9100438227615\n",
      "5 6 2857.9199516712597\n",
      "6 7 1706.070441361282\n",
      "7 8 804.1914518927242\n",
      "8 9 994.3461161625946\n",
      "9 10 687.4774821624014\n",
      "10 11 578.4665634495068\n",
      "5\n"
     ]
    },
    {
     "data": {
      "text/plain": [
       "<matplotlib.collections.LineCollection at 0x26dcb8ac4c0>"
      ]
     },
     "execution_count": 24,
     "metadata": {},
     "output_type": "execute_result"
    },
    {
     "data": {
      "image/png": "[encoded data removed]",
      "text/plain": [
       "<Figure size 432x288 with 1 Axes>"
      ]
     },
     "metadata": {
      "needs_background": "light"
     },
     "output_type": "display_data"
    }
   ],
   "source": [
    "wcss=[]\n",
    "prev=0\n",
    "a1=2\n",
    "a2=3\n",
    "xattsm1=dfsm.iloc[:,lambda df: [a1,a2]]\n",
    "\n",
    "for i in range(2,12):\n",
    "    kmeans = KMeans(i)\n",
    "    kmeans.fit(dfsm)\n",
    "    wcss_iter = kmeans.inertia_\n",
    "    if prev==0:\n",
    "        prev=wcss_iter\n",
    "    else:\n",
    "        print(i-1,i,prev-wcss_iter)\n",
    "        prev=wcss_iter\n",
    "    wcss.append(wcss_iter)\n",
    "\n",
    "number_clusters = range(2,12)\n",
    "kn = KneeLocator(number_clusters, wcss, curve='convex', direction='decreasing')\n",
    "print(kn.knee)\n",
    "\n",
    "plt.plot(number_clusters,wcss)\n",
    "plt.title('The Elbow title')\n",
    "plt.xlabel('Number of clusters')\n",
    "plt.ylabel('WCSS')\n",
    "plt.vlines(kn.knee, plt.ylim()[0], plt.ylim()[1], linestyles='dashed')"
   ]
  },
  {
   "cell_type": "code",
   "execution_count": 45,
   "metadata": {},
   "outputs": [
    {
     "name": "stdout",
     "output_type": "stream",
     "text": [
      "Index(['GU', 'REFMNG'], dtype='object')\n"
     ]
    },
    {
     "data": {
      "text/html": [
       "<table border=\"1\" class=\"dataframe\">\n",
       "  <thead>\n",
       "    <tr style=\"text-align: right;\">\n",
       "      <th></th>\n",
       "      <th>class_name</th>\n",
       "      <th>instance_count</th>\n",
       "      <th>rule_list</th>\n",
       "    </tr>\n",
       "  </thead>\n",
       "  <tbody>\n",
       "    <tr>\n",
       "      <th>1</th>\n",
       "      <td>0</td>\n",
       "      <td>174</td>\n",
       "      <td>[0.9708029197080292] REFMNG &lt;= 13.5 and REFMNG &gt; 6.5 and GU &gt; 9.5<br><br></td>\n",
       "    </tr>\n",
       "    <tr>\n",
       "      <th>0</th>\n",
       "      <td>1</td>\n",
       "      <td>214</td>\n",
       "      <td>[0.6086956521739131] REFMNG &gt; 13.5 and GU &lt;= 10.5<br><br>[1.0] REFMNG &gt; 13.5 and GU &gt; 10.5<br><br></td>\n",
       "    </tr>\n",
       "    <tr>\n",
       "      <th>2</th>\n",
       "      <td>2</td>\n",
       "      <td>163</td>\n",
       "      <td>[0.9532163742690059] REFMNG &lt;= 13.5 and REFMNG &lt;= 6.5<br><br></td>\n",
       "    </tr>\n",
       "    <tr>\n",
       "      <th>3</th>\n",
       "      <td>3</td>\n",
       "      <td>59</td>\n",
       "      <td>[0.5230769230769231] REFMNG &lt;= 13.5 and REFMNG &gt; 6.5 and GU &lt;= 9.5<br><br></td>\n",
       "    </tr>\n",
       "  </tbody>\n",
       "</table>"
      ],
      "text/plain": [
       "<IPython.core.display.HTML object>"
      ]
     },
     "metadata": {},
     "output_type": "display_data"
    },
    {
     "name": "stdout",
     "output_type": "stream",
     "text": [
      "The average silhouette_score is : 0.4472759225732238\n"
     ]
    },
    {
     "data": {
      "image/png": "[encoded data removed]",
      "text/plain": [
       "<Figure size 360x360 with 1 Axes>"
      ]
     },
     "metadata": {
      "needs_background": "light"
     },
     "output_type": "display_data"
    },
    {
     "name": "stdout",
     "output_type": "stream",
     "text": [
      "Index(['GU', 'RELMNG'], dtype='object')\n"
     ]
    },
    {
     "data": {
      "text/html": [
       "<table border=\"1\" class=\"dataframe\">\n",
       "  <thead>\n",
       "    <tr style=\"text-align: right;\">\n",
       "      <th></th>\n",
       "      <th>class_name</th>\n",
       "      <th>instance_count</th>\n",
       "      <th>rule_list</th>\n",
       "    </tr>\n",
       "  </thead>\n",
       "  <tbody>\n",
       "    <tr>\n",
       "      <th>0</th>\n",
       "      <td>0</td>\n",
       "      <td>277</td>\n",
       "      <td>[1.0] RELMNG &lt;= 6.5<br><br></td>\n",
       "    </tr>\n",
       "    <tr>\n",
       "      <th>1</th>\n",
       "      <td>1</td>\n",
       "      <td>134</td>\n",
       "      <td>[0.950354609929078] RELMNG &gt; 6.5 and RELMNG &gt; 16.5 and RELMNG &lt;= 26.5<br><br></td>\n",
       "    </tr>\n",
       "    <tr>\n",
       "      <th>3</th>\n",
       "      <td>2</td>\n",
       "      <td>74</td>\n",
       "      <td>[1.0] RELMNG &gt; 6.5 and RELMNG &gt; 16.5 and RELMNG &gt; 26.5<br><br></td>\n",
       "    </tr>\n",
       "    <tr>\n",
       "      <th>2</th>\n",
       "      <td>3</td>\n",
       "      <td>125</td>\n",
       "      <td>[0.9752066115702479] RELMNG &gt; 6.5 and RELMNG &lt;= 16.5<br><br></td>\n",
       "    </tr>\n",
       "  </tbody>\n",
       "</table>"
      ],
      "text/plain": [
       "<IPython.core.display.HTML object>"
      ]
     },
     "metadata": {},
     "output_type": "display_data"
    },
    {
     "name": "stdout",
     "output_type": "stream",
     "text": [
      "The average silhouette_score is : 0.46947505332353134\n"
     ]
    },
    {
     "data": {
      "image/png": "[encoded data removed]",
      "text/plain": [
       "<Figure size 360x360 with 1 Axes>"
      ]
     },
     "metadata": {
      "needs_background": "light"
     },
     "output_type": "display_data"
    },
    {
     "name": "stdout",
     "output_type": "stream",
     "text": [
      "Index(['GU', 'EL'], dtype='object')\n"
     ]
    },
    {
     "data": {
      "text/html": [
       "<table border=\"1\" class=\"dataframe\">\n",
       "  <thead>\n",
       "    <tr style=\"text-align: right;\">\n",
       "      <th></th>\n",
       "      <th>class_name</th>\n",
       "      <th>instance_count</th>\n",
       "      <th>rule_list</th>\n",
       "    </tr>\n",
       "  </thead>\n",
       "  <tbody>\n",
       "    <tr>\n",
       "      <th>2</th>\n",
       "      <td>0</td>\n",
       "      <td>95</td>\n",
       "      <td>[0.9595959595959596] EL &gt; 4.5 and EL &gt; 12.5 and EL &lt;= 21.5<br><br></td>\n",
       "    </tr>\n",
       "    <tr>\n",
       "      <th>3</th>\n",
       "      <td>1</td>\n",
       "      <td>89</td>\n",
       "      <td>[1.0] EL &gt; 4.5 and EL &gt; 12.5 and EL &gt; 21.5<br><br></td>\n",
       "    </tr>\n",
       "    <tr>\n",
       "      <th>0</th>\n",
       "      <td>2</td>\n",
       "      <td>254</td>\n",
       "      <td>[0.9761904761904762] EL &lt;= 4.5<br><br></td>\n",
       "    </tr>\n",
       "    <tr>\n",
       "      <th>1</th>\n",
       "      <td>3</td>\n",
       "      <td>172</td>\n",
       "      <td>[0.9529411764705882] EL &gt; 4.5 and EL &lt;= 12.5<br><br></td>\n",
       "    </tr>\n",
       "  </tbody>\n",
       "</table>"
      ],
      "text/plain": [
       "<IPython.core.display.HTML object>"
      ]
     },
     "metadata": {},
     "output_type": "display_data"
    },
    {
     "name": "stdout",
     "output_type": "stream",
     "text": [
      "The average silhouette_score is : 0.4605937656790448\n"
     ]
    },
    {
     "data": {
      "image/png": "[encoded data removed]",
      "text/plain": [
       "<Figure size 360x360 with 1 Axes>"
      ]
     },
     "metadata": {
      "needs_background": "light"
     },
     "output_type": "display_data"
    },
    {
     "name": "stdout",
     "output_type": "stream",
     "text": [
      "Index(['REFMNG', 'RELMNG'], dtype='object')\n"
     ]
    },
    {
     "data": {
      "text/html": [
       "<table border=\"1\" class=\"dataframe\">\n",
       "  <thead>\n",
       "    <tr style=\"text-align: right;\">\n",
       "      <th></th>\n",
       "      <th>class_name</th>\n",
       "      <th>instance_count</th>\n",
       "      <th>rule_list</th>\n",
       "    </tr>\n",
       "  </thead>\n",
       "  <tbody>\n",
       "    <tr>\n",
       "      <th>3</th>\n",
       "      <td>0</td>\n",
       "      <td>128</td>\n",
       "      <td>[1.0] REFMNG &gt; 6.5 and RELMNG &gt; 11.5 and RELMNG &lt;= 21.5<br><br></td>\n",
       "    </tr>\n",
       "    <tr>\n",
       "      <th>0</th>\n",
       "      <td>1</td>\n",
       "      <td>174</td>\n",
       "      <td>[1.0] REFMNG &lt;= 6.5<br><br></td>\n",
       "    </tr>\n",
       "    <tr>\n",
       "      <th>2</th>\n",
       "      <td>2</td>\n",
       "      <td>150</td>\n",
       "      <td>[0.967741935483871] REFMNG &gt; 6.5 and RELMNG &gt; 11.5 and RELMNG &gt; 21.5<br><br></td>\n",
       "    </tr>\n",
       "    <tr>\n",
       "      <th>1</th>\n",
       "      <td>3</td>\n",
       "      <td>158</td>\n",
       "      <td>[0.9693251533742331] REFMNG &gt; 6.5 and RELMNG &lt;= 11.5<br><br></td>\n",
       "    </tr>\n",
       "  </tbody>\n",
       "</table>"
      ],
      "text/plain": [
       "<IPython.core.display.HTML object>"
      ]
     },
     "metadata": {},
     "output_type": "display_data"
    },
    {
     "name": "stdout",
     "output_type": "stream",
     "text": [
      "The average silhouette_score is : 0.511802298564493\n"
     ]
    },
    {
     "data": {
      "image/png": "[encoded data removed]",
      "text/plain": [
       "<Figure size 360x360 with 1 Axes>"
      ]
     },
     "metadata": {
      "needs_background": "light"
     },
     "output_type": "display_data"
    },
    {
     "name": "stdout",
     "output_type": "stream",
     "text": [
      "Index(['REFMNG', 'EL'], dtype='object')\n"
     ]
    },
    {
     "data": {
      "text/html": [
       "<table border=\"1\" class=\"dataframe\">\n",
       "  <thead>\n",
       "    <tr style=\"text-align: right;\">\n",
       "      <th></th>\n",
       "      <th>class_name</th>\n",
       "      <th>instance_count</th>\n",
       "      <th>rule_list</th>\n",
       "    </tr>\n",
       "  </thead>\n",
       "  <tbody>\n",
       "    <tr>\n",
       "      <th>3</th>\n",
       "      <td>0</td>\n",
       "      <td>98</td>\n",
       "      <td>[1.0] REFMNG &gt; 6.5 and EL &gt; 9.5 and EL &gt; 20.5<br><br></td>\n",
       "    </tr>\n",
       "    <tr>\n",
       "      <th>0</th>\n",
       "      <td>1</td>\n",
       "      <td>210</td>\n",
       "      <td>[0.9702970297029703] REFMNG &gt; 6.5 and EL &lt;= 9.5<br><br></td>\n",
       "    </tr>\n",
       "    <tr>\n",
       "      <th>1</th>\n",
       "      <td>2</td>\n",
       "      <td>165</td>\n",
       "      <td>[0.935672514619883] REFMNG &lt;= 6.5<br><br></td>\n",
       "    </tr>\n",
       "    <tr>\n",
       "      <th>2</th>\n",
       "      <td>3</td>\n",
       "      <td>137</td>\n",
       "      <td>[0.918918918918919] REFMNG &gt; 6.5 and EL &gt; 9.5 and EL &lt;= 20.5<br><br></td>\n",
       "    </tr>\n",
       "  </tbody>\n",
       "</table>"
      ],
      "text/plain": [
       "<IPython.core.display.HTML object>"
      ]
     },
     "metadata": {},
     "output_type": "display_data"
    },
    {
     "name": "stdout",
     "output_type": "stream",
     "text": [
      "The average silhouette_score is : 0.49146299912177005\n"
     ]
    },
    {
     "data": {
      "image/png": "[encoded data removed]",
      "text/plain": [
       "<Figure size 360x360 with 1 Axes>"
      ]
     },
     "metadata": {
      "needs_background": "light"
     },
     "output_type": "display_data"
    },
    {
     "name": "stdout",
     "output_type": "stream",
     "text": [
      "Index(['RELMNG', 'EL'], dtype='object')\n"
     ]
    },
    {
     "data": {
      "text/html": [
       "<table border=\"1\" class=\"dataframe\">\n",
       "  <thead>\n",
       "    <tr style=\"text-align: right;\">\n",
       "      <th></th>\n",
       "      <th>class_name</th>\n",
       "      <th>instance_count</th>\n",
       "      <th>rule_list</th>\n",
       "    </tr>\n",
       "  </thead>\n",
       "  <tbody>\n",
       "    <tr>\n",
       "      <th>0</th>\n",
       "      <td>0</td>\n",
       "      <td>242</td>\n",
       "      <td>[1.0] EL &lt;= 5.5 and RELMNG &lt;= 5.5<br><br>[0.4603174603174603] EL &lt;= 5.5 and RELMNG &gt; 5.5<br><br></td>\n",
       "    </tr>\n",
       "    <tr>\n",
       "      <th>2</th>\n",
       "      <td>1</td>\n",
       "      <td>111</td>\n",
       "      <td>[1.0] EL &gt; 5.5 and RELMNG &gt; 16.5 and EL &lt;= 17.5<br><br></td>\n",
       "    </tr>\n",
       "    <tr>\n",
       "      <th>3</th>\n",
       "      <td>2</td>\n",
       "      <td>106</td>\n",
       "      <td>[0.9541284403669725] EL &gt; 5.5 and RELMNG &gt; 16.5 and EL &gt; 17.5<br><br></td>\n",
       "    </tr>\n",
       "    <tr>\n",
       "      <th>1</th>\n",
       "      <td>3</td>\n",
       "      <td>151</td>\n",
       "      <td>[0.9121621621621622] EL &gt; 5.5 and RELMNG &lt;= 16.5<br><br></td>\n",
       "    </tr>\n",
       "  </tbody>\n",
       "</table>"
      ],
      "text/plain": [
       "<IPython.core.display.HTML object>"
      ]
     },
     "metadata": {},
     "output_type": "display_data"
    },
    {
     "name": "stdout",
     "output_type": "stream",
     "text": [
      "The average silhouette_score is : 0.4748225795976705\n"
     ]
    },
    {
     "data": {
      "image/png": "[encoded data removed]",
      "text/plain": [
       "<Figure size 360x360 with 1 Axes>"
      ]
     },
     "metadata": {
      "needs_background": "light"
     },
     "output_type": "display_data"
    }
   ],
   "source": [
    "lcsm=list(dfsm.columns)\n",
    "lc2sm=lcsm.copy()\n",
    "\n",
    "silhsmlist=[]\n",
    "\n",
    "lendfsm=str(len(dfsm))\n",
    "\n",
    "for n1 in lcsm:\n",
    "    #print('Correlation for '+n1)\n",
    "    #print(lc.index(n1))\n",
    "    lc2sm.remove(n1)\n",
    "    for n2 in lc2sm:\n",
    "        aa1=lcsm.index(n1)\n",
    "        aa2=lcsm.index(n2)\n",
    "        xattsm=dfsm.iloc[:,lambda datafsm: [aa1, aa2]]\n",
    "        kmeanssm = KMeans(numk)\n",
    "        kmeanssm.fit(xattsm)\n",
    "        identified_clusters = kmeanssm.fit_predict(xattsm)\n",
    "        \n",
    "        cluster_report(xattsm, identified_clusters, min_samples_leaf=50, pruning_level=0.01)\n",
    "        \n",
    "        cluster_labels=kmeanssm.labels_\n",
    "        scoresm = metrics.silhouette_score(xattsm, cluster_labels, metric='euclidean')\n",
    "        \n",
    "        if scoresm > 0.4:\n",
    "            print(\"The average silhouette_score is :\", scoresm)\n",
    "            fig, ax1 = plt.subplots()\n",
    "\n",
    "            fig.set_size_inches(5, 5)\n",
    "\n",
    "            ax1.set_xlim([-0.1, 1])\n",
    "            ax1.set_ylim([0, len(xattsm) + (numk + 1) * 10])\n",
    "\n",
    "            sample_silhouette_values = silhouette_samples(xattsm, cluster_labels)\n",
    "\n",
    "            y_lower = 10\n",
    "            for i in range(numk):\n",
    "                ith_cluster_silhouette_values = \\\n",
    "                        sample_silhouette_values[cluster_labels == i]\n",
    "\n",
    "                ith_cluster_silhouette_values.sort()\n",
    "\n",
    "                size_cluster_i = ith_cluster_silhouette_values.shape[0]\n",
    "                y_upper = y_lower + size_cluster_i\n",
    "\n",
    "                color = cm.nipy_spectral(float(i) / numk)\n",
    "                ax1.fill_betweenx(np.arange(y_lower, y_upper),\n",
    "                                  0, ith_cluster_silhouette_values,\n",
    "                                  facecolor=color, edgecolor=color, alpha=0.7)\n",
    "                ax1.text(-0.05, y_lower + 0.5 * size_cluster_i, str(i))\n",
    "                y_lower = y_upper + 10  # 10 for the 0 samples\n",
    "  \n",
    "            ax1.set_title(\"The silhouette plot for \"+ lcsm[lcsm.index(n1)] + ' and '+ lc2sm[lc2sm.index(n2)])\n",
    "            ax1.set_xlabel(\"The silhouette coefficient values\")\n",
    "            ax1.set_ylabel(\"Cluster label\")\n",
    "            ax1.axvline(x=scoresm, color=\"red\", linestyle=\"--\")\n",
    "            \n",
    "            \n",
    "        plt.show()"
   ]
  },
  {
   "cell_type": "markdown",
   "metadata": {},
   "source": [
    "# Silhouette and Dunn for K-means"
   ]
  },
  {
   "cell_type": "code",
   "execution_count": 24,
   "metadata": {},
   "outputs": [
    {
     "data": {
      "text/html": [
       "<div>\n",
       "<style scoped>\n",
       "    .dataframe tbody tr th:only-of-type {\n",
       "        vertical-align: middle;\n",
       "    }\n",
       "\n",
       "    .dataframe tbody tr th {\n",
       "        vertical-align: top;\n",
       "    }\n",
       "\n",
       "    .dataframe thead th {\n",
       "        text-align: right;\n",
       "    }\n",
       "</style>\n",
       "<table border=\"1\" class=\"dataframe\">\n",
       "  <thead>\n",
       "    <tr style=\"text-align: right;\">\n",
       "      <th></th>\n",
       "      <th>Attributes</th>\n",
       "      <th>Silhouetter Score</th>\n",
       "      <th>Sampling Silhouetter Score</th>\n",
       "    </tr>\n",
       "  </thead>\n",
       "  <tbody>\n",
       "    <tr>\n",
       "      <th>0</th>\n",
       "      <td>GU and REFMNG</td>\n",
       "      <td>0.4410</td>\n",
       "      <td>0.4477</td>\n",
       "    </tr>\n",
       "    <tr>\n",
       "      <th>1</th>\n",
       "      <td>GU and RELMNG</td>\n",
       "      <td>0.4707</td>\n",
       "      <td>0.4695</td>\n",
       "    </tr>\n",
       "    <tr>\n",
       "      <th>2</th>\n",
       "      <td>GU and EL</td>\n",
       "      <td>0.4213</td>\n",
       "      <td>0.4637</td>\n",
       "    </tr>\n",
       "    <tr>\n",
       "      <th>3</th>\n",
       "      <td>REFMNG and RELMNG</td>\n",
       "      <td>0.5016</td>\n",
       "      <td>0.5118</td>\n",
       "    </tr>\n",
       "    <tr>\n",
       "      <th>4</th>\n",
       "      <td>REFMNG and EL</td>\n",
       "      <td>0.4875</td>\n",
       "      <td>0.4915</td>\n",
       "    </tr>\n",
       "    <tr>\n",
       "      <th>5</th>\n",
       "      <td>RELMNG and EL</td>\n",
       "      <td>0.5193</td>\n",
       "      <td>0.4748</td>\n",
       "    </tr>\n",
       "  </tbody>\n",
       "</table>\n",
       "</div>"
      ],
      "text/plain": [
       "          Attributes  Silhouetter Score  Sampling Silhouetter Score\n",
       "0      GU and REFMNG             0.4410                      0.4477\n",
       "1      GU and RELMNG             0.4707                      0.4695\n",
       "2          GU and EL             0.4213                      0.4637\n",
       "3  REFMNG and RELMNG             0.5016                      0.5118\n",
       "4      REFMNG and EL             0.4875                      0.4915\n",
       "5      RELMNG and EL             0.5193                      0.4748"
      ]
     },
     "execution_count": 24,
     "metadata": {},
     "output_type": "execute_result"
    }
   ],
   "source": [
    "lc=list(df.columns)\n",
    "lc2=lc.copy()\n",
    "silhlist2=[]\n",
    "\n",
    "for n1 in lc:\n",
    "    #print('Correlation for '+n1)\n",
    "    #print(lc.index(n1))\n",
    "    lc2.remove(n1)\n",
    "    for n2 in lc2:\n",
    "        aa1=lc.index(n1)\n",
    "        aa2=lc.index(n2)\n",
    "        name2=str(n1 +' and '+n2)\n",
    "        xatt2=df.iloc[:,lambda df: [aa1, aa2]]\n",
    "        xattsm=dfsm.iloc[:,lambda dfsm: [aa1, aa2]]\n",
    "        \n",
    "        kmeanssm = KMeans(numk)\n",
    "        kmeanssm.fit(xattsm)\n",
    "        kmeans1 = KMeans(numk)\n",
    "        kmeans1.fit(xatt2)\n",
    "        \n",
    "        scoresm = metrics.silhouette_score(xatt2, kmeans1.labels_, metric='euclidean')\n",
    "        scoresm=round(scoresm,4)\n",
    "        scoresmsm = metrics.silhouette_score(xattsm, kmeanssm.labels_, metric='euclidean')\n",
    "        scoresmsm=round(scoresmsm,4)\n",
    "        silhitem=[name2,scoresm,scoresmsm]\n",
    "        silhlist2.append(silhitem)\n",
    "\n",
    "silhdf2 = pd.DataFrame(silhlist2, columns =['Attributes','Silhouetter Score','Sampling Silhouetter Score'])\n",
    "silhdf2.head(10)"
   ]
  },
  {
   "cell_type": "markdown",
   "metadata": {},
   "source": [
    "# Dunn Index"
   ]
  },
  {
   "cell_type": "code",
   "execution_count": 25,
   "metadata": {},
   "outputs": [
    {
     "data": {
      "text/html": [
       "<div>\n",
       "<style scoped>\n",
       "    .dataframe tbody tr th:only-of-type {\n",
       "        vertical-align: middle;\n",
       "    }\n",
       "\n",
       "    .dataframe tbody tr th {\n",
       "        vertical-align: top;\n",
       "    }\n",
       "\n",
       "    .dataframe thead th {\n",
       "        text-align: right;\n",
       "    }\n",
       "</style>\n",
       "<table border=\"1\" class=\"dataframe\">\n",
       "  <thead>\n",
       "    <tr style=\"text-align: right;\">\n",
       "      <th></th>\n",
       "      <th>Attributes</th>\n",
       "      <th>DunnIndex</th>\n",
       "      <th>Sampling DunnIndex</th>\n",
       "    </tr>\n",
       "  </thead>\n",
       "  <tbody>\n",
       "    <tr>\n",
       "      <th>0</th>\n",
       "      <td>GU and REFMNG</td>\n",
       "      <td>0.6143</td>\n",
       "      <td>0.5965</td>\n",
       "    </tr>\n",
       "    <tr>\n",
       "      <th>1</th>\n",
       "      <td>GU and RELMNG</td>\n",
       "      <td>0.5322</td>\n",
       "      <td>0.5717</td>\n",
       "    </tr>\n",
       "    <tr>\n",
       "      <th>2</th>\n",
       "      <td>GU and EL</td>\n",
       "      <td>0.5726</td>\n",
       "      <td>0.5726</td>\n",
       "    </tr>\n",
       "    <tr>\n",
       "      <th>3</th>\n",
       "      <td>REFMNG and RELMNG</td>\n",
       "      <td>0.6934</td>\n",
       "      <td>0.6934</td>\n",
       "    </tr>\n",
       "    <tr>\n",
       "      <th>4</th>\n",
       "      <td>REFMNG and EL</td>\n",
       "      <td>0.5019</td>\n",
       "      <td>0.5019</td>\n",
       "    </tr>\n",
       "    <tr>\n",
       "      <th>5</th>\n",
       "      <td>RELMNG and EL</td>\n",
       "      <td>0.3430</td>\n",
       "      <td>0.3063</td>\n",
       "    </tr>\n",
       "  </tbody>\n",
       "</table>\n",
       "</div>"
      ],
      "text/plain": [
       "          Attributes  DunnIndex  Sampling DunnIndex\n",
       "0      GU and REFMNG     0.6143              0.5965\n",
       "1      GU and RELMNG     0.5322              0.5717\n",
       "2          GU and EL     0.5726              0.5726\n",
       "3  REFMNG and RELMNG     0.6934              0.6934\n",
       "4      REFMNG and EL     0.5019              0.5019\n",
       "5      RELMNG and EL     0.3430              0.3063"
      ]
     },
     "execution_count": 25,
     "metadata": {},
     "output_type": "execute_result"
    }
   ],
   "source": [
    "from sklearn.metrics.pairwise import euclidean_distances\n",
    "\n",
    "lc=list(df.columns)\n",
    "lc2=lc.copy()\n",
    "dunnlist=[]\n",
    "diameter_method='farthest'\n",
    "cdist_method='nearest'\n",
    "\n",
    "\n",
    "for n1 in lc:\n",
    "    #print('Correlation for '+n1)\n",
    "    #print(lc.index(n1))\n",
    "    lc2.remove(n1)\n",
    "    for n2 in lc2:\n",
    "        aa1=lc.index(n1)\n",
    "        aa2=lc.index(n2)\n",
    "        name2=str(n1 +' and '+n2)\n",
    "        xatt2=df.iloc[:,lambda df: [aa1, aa2]]\n",
    "        kmeans1 = KMeans(numk)\n",
    "        k = kmeans1.fit_predict(xatt2)\n",
    "        d = euclidean_distances(xatt2)\n",
    "        dunk = 10*dunn(k, d, diameter_method, cdist_method)\n",
    "        dunk=round(dunk,4)\n",
    "        \n",
    "        xattsm=dfsm.iloc[:,lambda dfsm: [aa1, aa2]]\n",
    "        kmeanssm = KMeans(numk)\n",
    "        ksm = kmeanssm.fit_predict(xattsm)\n",
    "        dsm = euclidean_distances(xattsm)\n",
    "        dunksm = 10*dunn(ksm, dsm, diameter_method, cdist_method)\n",
    "        dunksm=round(dunksm,4)\n",
    "        \n",
    "        dunnitem=[name2,dunk,dunksm]\n",
    "        dunnlist.append(dunnitem)\n",
    "\n",
    "dunndf = pd.DataFrame(dunnlist, columns =['Attributes','DunnIndex','Sampling DunnIndex'])\n",
    "dunndf.head(10)"
   ]
  },
  {
   "cell_type": "markdown",
   "metadata": {},
   "source": [
    "# Davies-Bouldin Index"
   ]
  },
  {
   "cell_type": "code",
   "execution_count": 26,
   "metadata": {},
   "outputs": [
    {
     "data": {
      "text/html": [
       "<div>\n",
       "<style scoped>\n",
       "    .dataframe tbody tr th:only-of-type {\n",
       "        vertical-align: middle;\n",
       "    }\n",
       "\n",
       "    .dataframe tbody tr th {\n",
       "        vertical-align: top;\n",
       "    }\n",
       "\n",
       "    .dataframe thead th {\n",
       "        text-align: right;\n",
       "    }\n",
       "</style>\n",
       "<table border=\"1\" class=\"dataframe\">\n",
       "  <thead>\n",
       "    <tr style=\"text-align: right;\">\n",
       "      <th></th>\n",
       "      <th>Attributes</th>\n",
       "      <th>Davies</th>\n",
       "      <th>Sampling Davies</th>\n",
       "    </tr>\n",
       "  </thead>\n",
       "  <tbody>\n",
       "    <tr>\n",
       "      <th>0</th>\n",
       "      <td>GU and REFMNG</td>\n",
       "      <td>0.794247</td>\n",
       "      <td>0.803147</td>\n",
       "    </tr>\n",
       "    <tr>\n",
       "      <th>1</th>\n",
       "      <td>GU and RELMNG</td>\n",
       "      <td>0.780216</td>\n",
       "      <td>0.780853</td>\n",
       "    </tr>\n",
       "    <tr>\n",
       "      <th>2</th>\n",
       "      <td>GU and EL</td>\n",
       "      <td>0.778246</td>\n",
       "      <td>0.756087</td>\n",
       "    </tr>\n",
       "    <tr>\n",
       "      <th>3</th>\n",
       "      <td>REFMNG and RELMNG</td>\n",
       "      <td>0.691628</td>\n",
       "      <td>0.673150</td>\n",
       "    </tr>\n",
       "    <tr>\n",
       "      <th>4</th>\n",
       "      <td>REFMNG and EL</td>\n",
       "      <td>0.716913</td>\n",
       "      <td>0.714275</td>\n",
       "    </tr>\n",
       "    <tr>\n",
       "      <th>5</th>\n",
       "      <td>RELMNG and EL</td>\n",
       "      <td>0.855919</td>\n",
       "      <td>0.838392</td>\n",
       "    </tr>\n",
       "  </tbody>\n",
       "</table>\n",
       "</div>"
      ],
      "text/plain": [
       "          Attributes    Davies  Sampling Davies\n",
       "0      GU and REFMNG  0.794247         0.803147\n",
       "1      GU and RELMNG  0.780216         0.780853\n",
       "2          GU and EL  0.778246         0.756087\n",
       "3  REFMNG and RELMNG  0.691628         0.673150\n",
       "4      REFMNG and EL  0.716913         0.714275\n",
       "5      RELMNG and EL  0.855919         0.838392"
      ]
     },
     "execution_count": 26,
     "metadata": {},
     "output_type": "execute_result"
    }
   ],
   "source": [
    "from sklearn.metrics import davies_bouldin_score\n",
    "\n",
    "lc=list(df.columns)\n",
    "lc2=lc.copy()\n",
    "davieslist=[]\n",
    "diameter_method='farthest'\n",
    "cdist_method='nearest'\n",
    "\n",
    "\n",
    "for n1 in lc:\n",
    "    #print('Correlation for '+n1)\n",
    "    #print(lc.index(n1))\n",
    "    lc2.remove(n1)\n",
    "    for n2 in lc2:\n",
    "        aa1=lc.index(n1)\n",
    "        aa2=lc.index(n2)\n",
    "        name2=str(n1 +' and '+n2)\n",
    "        xatt2=df.iloc[:,lambda df: [aa1, aa2]]\n",
    "        kmeans1 = KMeans(numk)\n",
    "        kmeans1.fit(xatt2)\n",
    "        labels = kmeans1.labels_\n",
    "        dab=davies_bouldin_score(xatt2, labels)\n",
    "        \n",
    "        \n",
    "        xattsm=dfsm.iloc[:,lambda dfsm: [aa1, aa2]]\n",
    "        kmeanssm = KMeans(numk)\n",
    "        kmeanssm.fit(xattsm)\n",
    "        labelsm = kmeanssm.labels_\n",
    "        dabsm=davies_bouldin_score(xattsm, labelsm)\n",
    "        \n",
    "        \n",
    "        daviesitem=[name2,dab,dabsm]\n",
    "        davieslist.append(daviesitem)\n",
    "\n",
    "daviesdf = pd.DataFrame(davieslist, columns =['Attributes','Davies','Sampling Davies'])\n",
    "daviesdf.head(10)"
   ]
  },
  {
   "cell_type": "markdown",
   "metadata": {},
   "source": [
    "# Hierarchical"
   ]
  },
  {
   "cell_type": "code",
   "execution_count": 27,
   "metadata": {},
   "outputs": [
    {
     "data": {
      "image/png": "[encoded data removed]",
      "text/plain": [
       "<Figure size 432x288 with 1 Axes>"
      ]
     },
     "metadata": {
      "needs_background": "light"
     },
     "output_type": "display_data"
    }
   ],
   "source": [
    "linked = linkage(df, 'complete') \n",
    "dendrogram(linked, orientation='top', distance_sort='ascending', show_leaf_counts=False,color_threshold=27.5) \n",
    "plt.show()"
   ]
  },
  {
   "cell_type": "code",
   "execution_count": 28,
   "metadata": {},
   "outputs": [
    {
     "name": "stdout",
     "output_type": "stream",
     "text": [
      "0.39309021279398776 0.6067853924728326 0.7856323559787598\n"
     ]
    },
    {
     "data": {
      "text/plain": [
       "<matplotlib.collections.PathCollection at 0x23c92aed370>"
      ]
     },
     "execution_count": 28,
     "metadata": {},
     "output_type": "execute_result"
    },
    {
     "data": {
      "image/png": "[encoded data removed]",
      "text/plain": [
       "<Figure size 432x288 with 1 Axes>"
      ]
     },
     "metadata": {
      "needs_background": "light"
     },
     "output_type": "display_data"
    }
   ],
   "source": [
    "modelac = AgglomerativeClustering(n_clusters=numk, linkage='complete')\n",
    "modelac.fit(dfsm)\n",
    "\n",
    "aclabel = modelac.fit_predict(dfsm)\n",
    "\n",
    "scoresm = metrics.silhouette_score(dfsm, modelac.labels_, metric='euclidean')\n",
    "\n",
    "d = euclidean_distances(dfsm)\n",
    "diameter_method='farthest'\n",
    "cdist_method='nearest'\n",
    "dunk = 5*dunn(aclabel, d, diameter_method, cdist_method)\n",
    "dasm=davies_bouldin_score(dfsm, aclabel)\n",
    "\n",
    "print(scoresm,dunk,dasm)\n",
    "\n",
    "\n",
    "fig, ax = plt.subplots() \n",
    "plt.scatter(dfsm.iloc[:,a1], dfsm.iloc[:,a2], c=modelac.labels_)"
   ]
  },
  {
   "cell_type": "markdown",
   "metadata": {},
   "source": [
    "# 300"
   ]
  },
  {
   "cell_type": "code",
   "execution_count": 46,
   "metadata": {},
   "outputs": [
    {
     "name": "stdout",
     "output_type": "stream",
     "text": [
      "Index(['GU', 'REFMNG'], dtype='object')\n"
     ]
    },
    {
     "data": {
      "text/html": [
       "<table border=\"1\" class=\"dataframe\">\n",
       "  <thead>\n",
       "    <tr style=\"text-align: right;\">\n",
       "      <th></th>\n",
       "      <th>class_name</th>\n",
       "      <th>instance_count</th>\n",
       "      <th>rule_list</th>\n",
       "    </tr>\n",
       "  </thead>\n",
       "  <tbody>\n",
       "    <tr>\n",
       "      <th>0</th>\n",
       "      <td>0</td>\n",
       "      <td>119</td>\n",
       "      <td>[0.7093023255813954] REFMNG &lt;= 11.5 and GU &lt;= 10.5<br><br>[1.0] REFMNG &lt;= 11.5 and GU &gt; 10.5<br><br></td>\n",
       "    </tr>\n",
       "    <tr>\n",
       "      <th>1</th>\n",
       "      <td>1</td>\n",
       "      <td>86</td>\n",
       "      <td>[0.8764044943820225] REFMNG &gt; 11.5 and GU &lt;= 12.5<br><br></td>\n",
       "    </tr>\n",
       "    <tr>\n",
       "      <th>2</th>\n",
       "      <td>2</td>\n",
       "      <td>78</td>\n",
       "      <td>[1.0] REFMNG &gt; 11.5 and GU &gt; 12.5<br><br></td>\n",
       "    </tr>\n",
       "    <tr>\n",
       "      <th>3</th>\n",
       "      <td>3</td>\n",
       "      <td>17</td>\n",
       "      <td>NaN</td>\n",
       "    </tr>\n",
       "  </tbody>\n",
       "</table>"
      ],
      "text/plain": [
       "<IPython.core.display.HTML object>"
      ]
     },
     "metadata": {},
     "output_type": "display_data"
    },
    {
     "name": "stdout",
     "output_type": "stream",
     "text": [
      "The average silhouette_score is : 0.2401489766769716\n"
     ]
    },
    {
     "data": {
      "image/png": "[encoded data removed]",
      "text/plain": [
       "<Figure size 360x360 with 1 Axes>"
      ]
     },
     "metadata": {
      "needs_background": "light"
     },
     "output_type": "display_data"
    },
    {
     "name": "stdout",
     "output_type": "stream",
     "text": [
      "Index(['GU', 'RELMNG'], dtype='object')\n"
     ]
    },
    {
     "data": {
      "text/html": [
       "<table border=\"1\" class=\"dataframe\">\n",
       "  <thead>\n",
       "    <tr style=\"text-align: right;\">\n",
       "      <th></th>\n",
       "      <th>class_name</th>\n",
       "      <th>instance_count</th>\n",
       "      <th>rule_list</th>\n",
       "    </tr>\n",
       "  </thead>\n",
       "  <tbody>\n",
       "    <tr>\n",
       "      <th>1</th>\n",
       "      <td>0</td>\n",
       "      <td>72</td>\n",
       "      <td>[0.5] RELMNG &gt; 5.5 and RELMNG &gt; 15.5 and RELMNG &lt;= 23.5<br><br>[0.8679245283018868] RELMNG &gt; 5.5 and RELMNG &gt; 15.5 and RELMNG &gt; 23.5<br><br></td>\n",
       "    </tr>\n",
       "    <tr>\n",
       "      <th>0</th>\n",
       "      <td>1</td>\n",
       "      <td>134</td>\n",
       "      <td>[0.9689922480620154] RELMNG &lt;= 5.5<br><br></td>\n",
       "    </tr>\n",
       "    <tr>\n",
       "      <th>3</th>\n",
       "      <td>2</td>\n",
       "      <td>39</td>\n",
       "      <td>NaN</td>\n",
       "    </tr>\n",
       "    <tr>\n",
       "      <th>2</th>\n",
       "      <td>3</td>\n",
       "      <td>55</td>\n",
       "      <td>[0.7727272727272727] RELMNG &gt; 5.5 and RELMNG &lt;= 15.5<br><br></td>\n",
       "    </tr>\n",
       "  </tbody>\n",
       "</table>"
      ],
      "text/plain": [
       "<IPython.core.display.HTML object>"
      ]
     },
     "metadata": {},
     "output_type": "display_data"
    },
    {
     "name": "stdout",
     "output_type": "stream",
     "text": [
      "The average silhouette_score is : 0.399229577685938\n"
     ]
    },
    {
     "data": {
      "image/png": "[encoded data removed]",
      "text/plain": [
       "<Figure size 360x360 with 1 Axes>"
      ]
     },
     "metadata": {
      "needs_background": "light"
     },
     "output_type": "display_data"
    },
    {
     "name": "stdout",
     "output_type": "stream",
     "text": [
      "Index(['GU', 'EL'], dtype='object')\n"
     ]
    },
    {
     "data": {
      "text/html": [
       "<table border=\"1\" class=\"dataframe\">\n",
       "  <thead>\n",
       "    <tr style=\"text-align: right;\">\n",
       "      <th></th>\n",
       "      <th>class_name</th>\n",
       "      <th>instance_count</th>\n",
       "      <th>rule_list</th>\n",
       "    </tr>\n",
       "  </thead>\n",
       "  <tbody>\n",
       "    <tr>\n",
       "      <th>0</th>\n",
       "      <td>0</td>\n",
       "      <td>107</td>\n",
       "      <td>[0.9029126213592233] GU &lt;= 9.5<br><br></td>\n",
       "    </tr>\n",
       "    <tr>\n",
       "      <th>2</th>\n",
       "      <td>1</td>\n",
       "      <td>57</td>\n",
       "      <td>[0.5684210526315789] GU &gt; 9.5 and EL &gt; 10.5<br><br></td>\n",
       "    </tr>\n",
       "    <tr>\n",
       "      <th>3</th>\n",
       "      <td>2</td>\n",
       "      <td>36</td>\n",
       "      <td>NaN</td>\n",
       "    </tr>\n",
       "    <tr>\n",
       "      <th>1</th>\n",
       "      <td>3</td>\n",
       "      <td>100</td>\n",
       "      <td>[0.9215686274509803] GU &gt; 9.5 and EL &lt;= 10.5<br><br></td>\n",
       "    </tr>\n",
       "  </tbody>\n",
       "</table>"
      ],
      "text/plain": [
       "<IPython.core.display.HTML object>"
      ]
     },
     "metadata": {},
     "output_type": "display_data"
    },
    {
     "name": "stdout",
     "output_type": "stream",
     "text": [
      "The average silhouette_score is : 0.29878141975387734\n"
     ]
    },
    {
     "data": {
      "image/png": "[encoded data removed]",
      "text/plain": [
       "<Figure size 360x360 with 1 Axes>"
      ]
     },
     "metadata": {
      "needs_background": "light"
     },
     "output_type": "display_data"
    },
    {
     "name": "stdout",
     "output_type": "stream",
     "text": [
      "Index(['REFMNG', 'RELMNG'], dtype='object')\n"
     ]
    },
    {
     "data": {
      "text/html": [
       "<table border=\"1\" class=\"dataframe\">\n",
       "  <thead>\n",
       "    <tr style=\"text-align: right;\">\n",
       "      <th></th>\n",
       "      <th>class_name</th>\n",
       "      <th>instance_count</th>\n",
       "      <th>rule_list</th>\n",
       "    </tr>\n",
       "  </thead>\n",
       "  <tbody>\n",
       "    <tr>\n",
       "      <th>1</th>\n",
       "      <td>0</td>\n",
       "      <td>77</td>\n",
       "      <td>[1.0] REFMNG &gt; 8.5 and RELMNG &gt; 10.5 and RELMNG &lt;= 22.5<br><br></td>\n",
       "    </tr>\n",
       "    <tr>\n",
       "      <th>0</th>\n",
       "      <td>1</td>\n",
       "      <td>96</td>\n",
       "      <td>[0.9578947368421052] REFMNG &lt;= 8.5<br><br></td>\n",
       "    </tr>\n",
       "    <tr>\n",
       "      <th>3</th>\n",
       "      <td>2</td>\n",
       "      <td>57</td>\n",
       "      <td>[0.95] REFMNG &gt; 8.5 and RELMNG &gt; 10.5 and RELMNG &gt; 22.5<br><br></td>\n",
       "    </tr>\n",
       "    <tr>\n",
       "      <th>2</th>\n",
       "      <td>3</td>\n",
       "      <td>70</td>\n",
       "      <td>[0.9305555555555556] REFMNG &gt; 8.5 and RELMNG &lt;= 10.5<br><br></td>\n",
       "    </tr>\n",
       "  </tbody>\n",
       "</table>"
      ],
      "text/plain": [
       "<IPython.core.display.HTML object>"
      ]
     },
     "metadata": {},
     "output_type": "display_data"
    },
    {
     "name": "stdout",
     "output_type": "stream",
     "text": [
      "The average silhouette_score is : 0.4684776350264053\n"
     ]
    },
    {
     "data": {
      "image/png": "[encoded data removed]",
      "text/plain": [
       "<Figure size 360x360 with 1 Axes>"
      ]
     },
     "metadata": {
      "needs_background": "light"
     },
     "output_type": "display_data"
    },
    {
     "name": "stdout",
     "output_type": "stream",
     "text": [
      "Index(['REFMNG', 'EL'], dtype='object')\n"
     ]
    },
    {
     "data": {
      "text/html": [
       "<table border=\"1\" class=\"dataframe\">\n",
       "  <thead>\n",
       "    <tr style=\"text-align: right;\">\n",
       "      <th></th>\n",
       "      <th>class_name</th>\n",
       "      <th>instance_count</th>\n",
       "      <th>rule_list</th>\n",
       "    </tr>\n",
       "  </thead>\n",
       "  <tbody>\n",
       "    <tr>\n",
       "      <th>0</th>\n",
       "      <td>0</td>\n",
       "      <td>168</td>\n",
       "      <td>[0.9938271604938271] REFMNG &gt; 6.5 and EL &lt;= 17.5<br><br></td>\n",
       "    </tr>\n",
       "    <tr>\n",
       "      <th>2</th>\n",
       "      <td>1</td>\n",
       "      <td>53</td>\n",
       "      <td>[0.9298245614035088] REFMNG &gt; 6.5 and EL &gt; 17.5<br><br></td>\n",
       "    </tr>\n",
       "    <tr>\n",
       "      <th>1</th>\n",
       "      <td>2</td>\n",
       "      <td>77</td>\n",
       "      <td>[0.9382716049382716] REFMNG &lt;= 6.5<br><br></td>\n",
       "    </tr>\n",
       "    <tr>\n",
       "      <th>3</th>\n",
       "      <td>3</td>\n",
       "      <td>2</td>\n",
       "      <td>NaN</td>\n",
       "    </tr>\n",
       "  </tbody>\n",
       "</table>"
      ],
      "text/plain": [
       "<IPython.core.display.HTML object>"
      ]
     },
     "metadata": {},
     "output_type": "display_data"
    },
    {
     "name": "stdout",
     "output_type": "stream",
     "text": [
      "The average silhouette_score is : 0.4903206135286594\n"
     ]
    },
    {
     "data": {
      "image/png": "[encoded data removed]",
      "text/plain": [
       "<Figure size 360x360 with 1 Axes>"
      ]
     },
     "metadata": {
      "needs_background": "light"
     },
     "output_type": "display_data"
    },
    {
     "name": "stdout",
     "output_type": "stream",
     "text": [
      "Index(['RELMNG', 'EL'], dtype='object')\n"
     ]
    },
    {
     "data": {
      "text/html": [
       "<table border=\"1\" class=\"dataframe\">\n",
       "  <thead>\n",
       "    <tr style=\"text-align: right;\">\n",
       "      <th></th>\n",
       "      <th>class_name</th>\n",
       "      <th>instance_count</th>\n",
       "      <th>rule_list</th>\n",
       "    </tr>\n",
       "  </thead>\n",
       "  <tbody>\n",
       "    <tr>\n",
       "      <th>2</th>\n",
       "      <td>0</td>\n",
       "      <td>52</td>\n",
       "      <td>[0.7884615384615384] RELMNG &gt; 13.5 and EL &gt; 17.5<br><br></td>\n",
       "    </tr>\n",
       "    <tr>\n",
       "      <th>1</th>\n",
       "      <td>1</td>\n",
       "      <td>66</td>\n",
       "      <td>[0.746268656716418] RELMNG &gt; 13.5 and EL &lt;= 17.5<br><br></td>\n",
       "    </tr>\n",
       "    <tr>\n",
       "      <th>3</th>\n",
       "      <td>2</td>\n",
       "      <td>7</td>\n",
       "      <td>NaN</td>\n",
       "    </tr>\n",
       "    <tr>\n",
       "      <th>0</th>\n",
       "      <td>3</td>\n",
       "      <td>175</td>\n",
       "      <td>[0.9337016574585635] RELMNG &lt;= 13.5<br><br></td>\n",
       "    </tr>\n",
       "  </tbody>\n",
       "</table>"
      ],
      "text/plain": [
       "<IPython.core.display.HTML object>"
      ]
     },
     "metadata": {},
     "output_type": "display_data"
    },
    {
     "name": "stdout",
     "output_type": "stream",
     "text": [
      "The average silhouette_score is : 0.5070512164078698\n"
     ]
    },
    {
     "data": {
      "image/png": "[encoded data removed]",
      "text/plain": [
       "<Figure size 360x360 with 1 Axes>"
      ]
     },
     "metadata": {
      "needs_background": "light"
     },
     "output_type": "display_data"
    }
   ],
   "source": [
    "#data=300\n",
    "\n",
    "lc=list(df.columns)\n",
    "lc2=lc.copy()\n",
    "\n",
    "ahsilhlist=[]\n",
    "\n",
    "\n",
    "for n1 in lc:\n",
    "    #print('Correlation for '+n1)\n",
    "    #print(lc.index(n1))\n",
    "    lc2.remove(n1)\n",
    "    for n2 in lc2:\n",
    "        aa1=lc.index(n1)\n",
    "        aa2=lc.index(n2)\n",
    "        xatt2=df.iloc[:,lambda df: [aa1, aa2]]\n",
    "        modelac2 = AgglomerativeClustering(n_clusters=numk, linkage='complete')\n",
    "        modelac2.fit(xatt2)\n",
    "        yac=modelac2.fit_predict(xatt2)\n",
    "\n",
    "        cluster_report(xatt2, yac, min_samples_leaf=50, pruning_level=0.01)\n",
    "        \n",
    "        cluster_labels=modelac2.labels_\n",
    "        scoresm = metrics.silhouette_score(xatt2, cluster_labels, metric='euclidean')\n",
    "        \n",
    "        if scoresm > 0.1:\n",
    "            print(\"The average silhouette_score is :\", scoresm)\n",
    "            fig, ax1 = plt.subplots()\n",
    "\n",
    "            fig.set_size_inches(5, 5)\n",
    "\n",
    "            ax1.set_xlim([-0.1, 1])\n",
    "            ax1.set_ylim([0, len(xatt2) + (numk + 1) * 10])\n",
    "\n",
    "            sample_silhouette_values = silhouette_samples(xatt2, cluster_labels)\n",
    "\n",
    "            y_lower = 10\n",
    "            for i in range(numk):\n",
    "                ith_cluster_silhouette_values = \\\n",
    "                        sample_silhouette_values[cluster_labels == i]\n",
    "\n",
    "                ith_cluster_silhouette_values.sort()\n",
    "\n",
    "                size_cluster_i = ith_cluster_silhouette_values.shape[0]\n",
    "                y_upper = y_lower + size_cluster_i\n",
    "\n",
    "                color = cm.nipy_spectral(float(i) / numk)\n",
    "                ax1.fill_betweenx(np.arange(y_lower, y_upper),\n",
    "                                  0, ith_cluster_silhouette_values,\n",
    "                                  facecolor=color, edgecolor=color, alpha=0.7)\n",
    "                ax1.text(-0.05, y_lower + 0.5 * size_cluster_i, str(i))\n",
    "                y_lower = y_upper + 10  # 10 for the 0 samples\n",
    "  \n",
    "            ax1.set_title(\"The silhouette plot for \"+ lc[lc.index(n1)] + ' and '+ lc2[lc2.index(n2)])\n",
    "            ax1.set_xlabel(\"The silhouette coefficient values\")\n",
    "            ax1.set_ylabel(\"Cluster label\")\n",
    "            ax1.axvline(x=scoresm, color=\"red\", linestyle=\"--\")\n",
    "            \n",
    "        plt.show()"
   ]
  },
  {
   "cell_type": "markdown",
   "metadata": {},
   "source": [
    "# 600"
   ]
  },
  {
   "cell_type": "code",
   "execution_count": 47,
   "metadata": {},
   "outputs": [
    {
     "name": "stdout",
     "output_type": "stream",
     "text": [
      "Index(['GU', 'REFMNG'], dtype='object')\n"
     ]
    },
    {
     "data": {
      "text/html": [
       "<table border=\"1\" class=\"dataframe\">\n",
       "  <thead>\n",
       "    <tr style=\"text-align: right;\">\n",
       "      <th></th>\n",
       "      <th>class_name</th>\n",
       "      <th>instance_count</th>\n",
       "      <th>rule_list</th>\n",
       "    </tr>\n",
       "  </thead>\n",
       "  <tbody>\n",
       "    <tr>\n",
       "      <th>0</th>\n",
       "      <td>0</td>\n",
       "      <td>300</td>\n",
       "      <td>[0.6666666666666666] REFMNG &gt; 9.5 and GU &lt;= 10.5 and REFMNG &gt; 13.5<br><br>[0.996078431372549] REFMNG &gt; 9.5 and GU &gt; 10.5<br><br></td>\n",
       "    </tr>\n",
       "    <tr>\n",
       "      <th>2</th>\n",
       "      <td>1</td>\n",
       "      <td>110</td>\n",
       "      <td>[1.0] REFMNG &gt; 9.5 and GU &lt;= 10.5 and REFMNG &lt;= 13.5<br><br></td>\n",
       "    </tr>\n",
       "    <tr>\n",
       "      <th>1</th>\n",
       "      <td>2</td>\n",
       "      <td>182</td>\n",
       "      <td>[0.9212121212121213] REFMNG &lt;= 9.5 and REFMNG &lt;= 5.5<br><br>[0.5555555555555556] REFMNG &lt;= 9.5 and REFMNG &gt; 5.5<br><br></td>\n",
       "    </tr>\n",
       "    <tr>\n",
       "      <th>3</th>\n",
       "      <td>3</td>\n",
       "      <td>18</td>\n",
       "      <td>NaN</td>\n",
       "    </tr>\n",
       "  </tbody>\n",
       "</table>"
      ],
      "text/plain": [
       "<IPython.core.display.HTML object>"
      ]
     },
     "metadata": {},
     "output_type": "display_data"
    },
    {
     "name": "stdout",
     "output_type": "stream",
     "text": [
      "The average silhouette_score is : 0.38109537817441375\n"
     ]
    },
    {
     "data": {
      "image/png": "[encoded data removed]",
      "text/plain": [
       "<Figure size 360x360 with 1 Axes>"
      ]
     },
     "metadata": {
      "needs_background": "light"
     },
     "output_type": "display_data"
    },
    {
     "name": "stdout",
     "output_type": "stream",
     "text": [
      "Index(['GU', 'RELMNG'], dtype='object')\n"
     ]
    },
    {
     "data": {
      "text/html": [
       "<table border=\"1\" class=\"dataframe\">\n",
       "  <thead>\n",
       "    <tr style=\"text-align: right;\">\n",
       "      <th></th>\n",
       "      <th>class_name</th>\n",
       "      <th>instance_count</th>\n",
       "      <th>rule_list</th>\n",
       "    </tr>\n",
       "  </thead>\n",
       "  <tbody>\n",
       "    <tr>\n",
       "      <th>3</th>\n",
       "      <td>0</td>\n",
       "      <td>79</td>\n",
       "      <td>[0.6666666666666666] RELMNG &lt;= 12.5 and GU &lt;= 7.5<br><br></td>\n",
       "    </tr>\n",
       "    <tr>\n",
       "      <th>2</th>\n",
       "      <td>1</td>\n",
       "      <td>110</td>\n",
       "      <td>[0.873015873015873] RELMNG &gt; 12.5 and RELMNG &gt; 23.5<br><br></td>\n",
       "    </tr>\n",
       "    <tr>\n",
       "      <th>0</th>\n",
       "      <td>2</td>\n",
       "      <td>287</td>\n",
       "      <td>[0.9522058823529411] RELMNG &lt;= 12.5 and GU &gt; 7.5<br><br></td>\n",
       "    </tr>\n",
       "    <tr>\n",
       "      <th>1</th>\n",
       "      <td>3</td>\n",
       "      <td>134</td>\n",
       "      <td>[0.8805970149253731] RELMNG &gt; 12.5 and RELMNG &lt;= 23.5<br><br></td>\n",
       "    </tr>\n",
       "  </tbody>\n",
       "</table>"
      ],
      "text/plain": [
       "<IPython.core.display.HTML object>"
      ]
     },
     "metadata": {},
     "output_type": "display_data"
    },
    {
     "name": "stdout",
     "output_type": "stream",
     "text": [
      "The average silhouette_score is : 0.35449493040985003\n"
     ]
    },
    {
     "data": {
      "image/png": "[encoded data removed]",
      "text/plain": [
       "<Figure size 360x360 with 1 Axes>"
      ]
     },
     "metadata": {
      "needs_background": "light"
     },
     "output_type": "display_data"
    },
    {
     "name": "stdout",
     "output_type": "stream",
     "text": [
      "Index(['GU', 'EL'], dtype='object')\n"
     ]
    },
    {
     "data": {
      "text/html": [
       "<table border=\"1\" class=\"dataframe\">\n",
       "  <thead>\n",
       "    <tr style=\"text-align: right;\">\n",
       "      <th></th>\n",
       "      <th>class_name</th>\n",
       "      <th>instance_count</th>\n",
       "      <th>rule_list</th>\n",
       "    </tr>\n",
       "  </thead>\n",
       "  <tbody>\n",
       "    <tr>\n",
       "      <th>2</th>\n",
       "      <td>0</td>\n",
       "      <td>149</td>\n",
       "      <td>[0.8909090909090909] EL &gt; 9.5 and EL &lt;= 22.5<br><br></td>\n",
       "    </tr>\n",
       "    <tr>\n",
       "      <th>0</th>\n",
       "      <td>1</td>\n",
       "      <td>215</td>\n",
       "      <td>[1.0] EL &lt;= 9.5 and GU &gt; 9.5<br><br></td>\n",
       "    </tr>\n",
       "    <tr>\n",
       "      <th>3</th>\n",
       "      <td>2</td>\n",
       "      <td>85</td>\n",
       "      <td>[0.9770114942528736] EL &gt; 9.5 and EL &gt; 22.5<br><br></td>\n",
       "    </tr>\n",
       "    <tr>\n",
       "      <th>1</th>\n",
       "      <td>3</td>\n",
       "      <td>161</td>\n",
       "      <td>[1.0] EL &lt;= 9.5 and GU &lt;= 9.5 and EL &lt;= 2.5<br><br>[0.5370370370370371] EL &lt;= 9.5 and GU &lt;= 9.5 and EL &gt; 2.5<br><br></td>\n",
       "    </tr>\n",
       "  </tbody>\n",
       "</table>"
      ],
      "text/plain": [
       "<IPython.core.display.HTML object>"
      ]
     },
     "metadata": {},
     "output_type": "display_data"
    },
    {
     "name": "stdout",
     "output_type": "stream",
     "text": [
      "The average silhouette_score is : 0.3910302245316402\n"
     ]
    },
    {
     "data": {
      "image/png": "[encoded data removed]",
      "text/plain": [
       "<Figure size 360x360 with 1 Axes>"
      ]
     },
     "metadata": {
      "needs_background": "light"
     },
     "output_type": "display_data"
    },
    {
     "name": "stdout",
     "output_type": "stream",
     "text": [
      "Index(['REFMNG', 'RELMNG'], dtype='object')\n"
     ]
    },
    {
     "data": {
      "text/html": [
       "<table border=\"1\" class=\"dataframe\">\n",
       "  <thead>\n",
       "    <tr style=\"text-align: right;\">\n",
       "      <th></th>\n",
       "      <th>class_name</th>\n",
       "      <th>instance_count</th>\n",
       "      <th>rule_list</th>\n",
       "    </tr>\n",
       "  </thead>\n",
       "  <tbody>\n",
       "    <tr>\n",
       "      <th>1</th>\n",
       "      <td>0</td>\n",
       "      <td>169</td>\n",
       "      <td>[0.9523809523809523] REFMNG &gt; 5.5 and RELMNG &gt; 14.5 and RELMNG &lt;= 26.5<br><br></td>\n",
       "    </tr>\n",
       "    <tr>\n",
       "      <th>0</th>\n",
       "      <td>1</td>\n",
       "      <td>217</td>\n",
       "      <td>[1.0] REFMNG &gt; 5.5 and RELMNG &lt;= 14.5<br><br></td>\n",
       "    </tr>\n",
       "    <tr>\n",
       "      <th>2</th>\n",
       "      <td>2</td>\n",
       "      <td>159</td>\n",
       "      <td>[0.9636363636363636] REFMNG &lt;= 5.5<br><br></td>\n",
       "    </tr>\n",
       "    <tr>\n",
       "      <th>3</th>\n",
       "      <td>3</td>\n",
       "      <td>65</td>\n",
       "      <td>[0.8783783783783784] REFMNG &gt; 5.5 and RELMNG &gt; 14.5 and RELMNG &gt; 26.5<br><br></td>\n",
       "    </tr>\n",
       "  </tbody>\n",
       "</table>"
      ],
      "text/plain": [
       "<IPython.core.display.HTML object>"
      ]
     },
     "metadata": {},
     "output_type": "display_data"
    },
    {
     "name": "stdout",
     "output_type": "stream",
     "text": [
      "The average silhouette_score is : 0.4807161473741302\n"
     ]
    },
    {
     "data": {
      "image/png": "[encoded data removed]",
      "text/plain": [
       "<Figure size 360x360 with 1 Axes>"
      ]
     },
     "metadata": {
      "needs_background": "light"
     },
     "output_type": "display_data"
    },
    {
     "name": "stdout",
     "output_type": "stream",
     "text": [
      "Index(['REFMNG', 'EL'], dtype='object')\n"
     ]
    },
    {
     "data": {
      "text/html": [
       "<table border=\"1\" class=\"dataframe\">\n",
       "  <thead>\n",
       "    <tr style=\"text-align: right;\">\n",
       "      <th></th>\n",
       "      <th>class_name</th>\n",
       "      <th>instance_count</th>\n",
       "      <th>rule_list</th>\n",
       "    </tr>\n",
       "  </thead>\n",
       "  <tbody>\n",
       "    <tr>\n",
       "      <th>2</th>\n",
       "      <td>0</td>\n",
       "      <td>190</td>\n",
       "      <td>[0.9004739336492891] EL &gt; 11.5<br><br></td>\n",
       "    </tr>\n",
       "    <tr>\n",
       "      <th>1</th>\n",
       "      <td>1</td>\n",
       "      <td>191</td>\n",
       "      <td>[0.9940476190476191] EL &lt;= 11.5 and REFMNG &lt;= 7.5<br><br></td>\n",
       "    </tr>\n",
       "    <tr>\n",
       "      <th>3</th>\n",
       "      <td>2</td>\n",
       "      <td>9</td>\n",
       "      <td>NaN</td>\n",
       "    </tr>\n",
       "    <tr>\n",
       "      <th>0</th>\n",
       "      <td>3</td>\n",
       "      <td>220</td>\n",
       "      <td>[0.5925925925925926] EL &lt;= 11.5 and REFMNG &gt; 7.5 and REFMNG &lt;= 10.5<br><br>[1.0] EL &lt;= 11.5 and REFMNG &gt; 7.5 and REFMNG &gt; 10.5<br><br></td>\n",
       "    </tr>\n",
       "  </tbody>\n",
       "</table>"
      ],
      "text/plain": [
       "<IPython.core.display.HTML object>"
      ]
     },
     "metadata": {},
     "output_type": "display_data"
    },
    {
     "name": "stdout",
     "output_type": "stream",
     "text": [
      "The average silhouette_score is : 0.4439104688575853\n"
     ]
    },
    {
     "data": {
      "image/png": "[encoded data removed]",
      "text/plain": [
       "<Figure size 360x360 with 1 Axes>"
      ]
     },
     "metadata": {
      "needs_background": "light"
     },
     "output_type": "display_data"
    },
    {
     "name": "stdout",
     "output_type": "stream",
     "text": [
      "Index(['RELMNG', 'EL'], dtype='object')\n"
     ]
    },
    {
     "data": {
      "text/html": [
       "<table border=\"1\" class=\"dataframe\">\n",
       "  <thead>\n",
       "    <tr style=\"text-align: right;\">\n",
       "      <th></th>\n",
       "      <th>class_name</th>\n",
       "      <th>instance_count</th>\n",
       "      <th>rule_list</th>\n",
       "    </tr>\n",
       "  </thead>\n",
       "  <tbody>\n",
       "    <tr>\n",
       "      <th>3</th>\n",
       "      <td>0</td>\n",
       "      <td>48</td>\n",
       "      <td>[0.6078431372549019] RELMNG &lt;= 15.5 and EL &gt; 11.5<br><br></td>\n",
       "    </tr>\n",
       "    <tr>\n",
       "      <th>1</th>\n",
       "      <td>1</td>\n",
       "      <td>156</td>\n",
       "      <td>[0.7] RELMNG &gt; 15.5 and EL &gt; 10.5 and RELMNG &lt;= 22.5<br><br>[1.0] RELMNG &gt; 15.5 and EL &gt; 10.5 and RELMNG &gt; 22.5<br><br></td>\n",
       "    </tr>\n",
       "    <tr>\n",
       "      <th>0</th>\n",
       "      <td>2</td>\n",
       "      <td>350</td>\n",
       "      <td>[0.9792284866468842] RELMNG &lt;= 15.5 and EL &lt;= 11.5<br><br></td>\n",
       "    </tr>\n",
       "    <tr>\n",
       "      <th>2</th>\n",
       "      <td>3</td>\n",
       "      <td>56</td>\n",
       "      <td>[0.9056603773584906] RELMNG &gt; 15.5 and EL &lt;= 10.5<br><br></td>\n",
       "    </tr>\n",
       "  </tbody>\n",
       "</table>"
      ],
      "text/plain": [
       "<IPython.core.display.HTML object>"
      ]
     },
     "metadata": {},
     "output_type": "display_data"
    },
    {
     "name": "stdout",
     "output_type": "stream",
     "text": [
      "The average silhouette_score is : 0.4582552883208097\n"
     ]
    },
    {
     "data": {
      "image/png": "[encoded data removed]",
      "text/plain": [
       "<Figure size 360x360 with 1 Axes>"
      ]
     },
     "metadata": {
      "needs_background": "light"
     },
     "output_type": "display_data"
    }
   ],
   "source": [
    "#--------------------------------------data=600---------------------------------------------\n",
    "\n",
    "lcsm=list(dfsm.columns)\n",
    "lc2sm=lcsm.copy()\n",
    "\n",
    "ahsilhsmlist=[]\n",
    "\n",
    "for n1 in lcsm:\n",
    "    #print('Correlation for '+n1)\n",
    "    #print(lc.index(n1))\n",
    "    lc2sm.remove(n1)\n",
    "    for n2 in lc2sm:\n",
    "        aa1=lcsm.index(n1)\n",
    "        aa2=lcsm.index(n2)\n",
    "        xattsm=dfsm.iloc[:,lambda dfsm: [aa1, aa2]]\n",
    "        modelacsm = AgglomerativeClustering(n_clusters=numk, linkage='complete')\n",
    "        modelacsm.fit(xattsm)\n",
    "        identified_clusters = modelacsm.fit_predict(xattsm)\n",
    "        \n",
    "        cluster_report(xattsm, identified_clusters, min_samples_leaf=50, pruning_level=0.01)\n",
    "        \n",
    "        cluster_labels=modelacsm.labels_\n",
    "        scoresm = metrics.silhouette_score(xattsm, cluster_labels, metric='euclidean')\n",
    "        \n",
    "        if scoresm > 0.1:\n",
    "            print(\"The average silhouette_score is :\", scoresm)\n",
    "            fig, ax1 = plt.subplots()\n",
    "\n",
    "            fig.set_size_inches(5, 5)\n",
    "\n",
    "            ax1.set_xlim([-0.1, 1])\n",
    "            ax1.set_ylim([0, len(xattsm) + (numk + 1) * 10])\n",
    "\n",
    "            sample_silhouette_values = silhouette_samples(xattsm, cluster_labels)\n",
    "\n",
    "            y_lower = 10\n",
    "            for i in range(numk):\n",
    "                ith_cluster_silhouette_values = \\\n",
    "                        sample_silhouette_values[cluster_labels == i]\n",
    "\n",
    "                ith_cluster_silhouette_values.sort()\n",
    "\n",
    "                size_cluster_i = ith_cluster_silhouette_values.shape[0]\n",
    "                y_upper = y_lower + size_cluster_i\n",
    "\n",
    "                color = cm.nipy_spectral(float(i) / numk)\n",
    "                ax1.fill_betweenx(np.arange(y_lower, y_upper),\n",
    "                                  0, ith_cluster_silhouette_values,\n",
    "                                  facecolor=color, edgecolor=color, alpha=0.7)\n",
    "                ax1.text(-0.05, y_lower + 0.5 * size_cluster_i, str(i))\n",
    "                y_lower = y_upper + 10  # 10 for the 0 samples\n",
    "  \n",
    "            ax1.set_title(\"The silhouette plot for \"+ lcsm[lcsm.index(n1)] + ' and '+ lc2sm[lc2sm.index(n2)])\n",
    "            ax1.set_xlabel(\"The silhouette coefficient values\")\n",
    "            ax1.set_ylabel(\"Cluster label\")\n",
    "            ax1.axvline(x=scoresm, color=\"red\", linestyle=\"--\")\n",
    "            \n",
    "            \n",
    "        plt.show()\n",
    "        \n",
    "        \n",
    "        plt.show()\n",
    "\n"
   ]
  },
  {
   "cell_type": "markdown",
   "metadata": {},
   "source": [
    "# Silhouette and Dunn AC"
   ]
  },
  {
   "cell_type": "code",
   "execution_count": 32,
   "metadata": {},
   "outputs": [
    {
     "data": {
      "text/html": [
       "<div>\n",
       "<style scoped>\n",
       "    .dataframe tbody tr th:only-of-type {\n",
       "        vertical-align: middle;\n",
       "    }\n",
       "\n",
       "    .dataframe tbody tr th {\n",
       "        vertical-align: top;\n",
       "    }\n",
       "\n",
       "    .dataframe thead th {\n",
       "        text-align: right;\n",
       "    }\n",
       "</style>\n",
       "<table border=\"1\" class=\"dataframe\">\n",
       "  <thead>\n",
       "    <tr style=\"text-align: right;\">\n",
       "      <th></th>\n",
       "      <th>Attributes</th>\n",
       "      <th>Silhouetter Score</th>\n",
       "      <th>Sampling Silhouetter Score</th>\n",
       "    </tr>\n",
       "  </thead>\n",
       "  <tbody>\n",
       "    <tr>\n",
       "      <th>3</th>\n",
       "      <td>REFMNG and RELMNG</td>\n",
       "      <td>0.4685</td>\n",
       "      <td>0.4807</td>\n",
       "    </tr>\n",
       "    <tr>\n",
       "      <th>5</th>\n",
       "      <td>RELMNG and EL</td>\n",
       "      <td>0.5071</td>\n",
       "      <td>0.4583</td>\n",
       "    </tr>\n",
       "    <tr>\n",
       "      <th>4</th>\n",
       "      <td>REFMNG and EL</td>\n",
       "      <td>0.4903</td>\n",
       "      <td>0.4439</td>\n",
       "    </tr>\n",
       "    <tr>\n",
       "      <th>2</th>\n",
       "      <td>GU and EL</td>\n",
       "      <td>0.2988</td>\n",
       "      <td>0.3910</td>\n",
       "    </tr>\n",
       "    <tr>\n",
       "      <th>0</th>\n",
       "      <td>GU and REFMNG</td>\n",
       "      <td>0.2401</td>\n",
       "      <td>0.3811</td>\n",
       "    </tr>\n",
       "    <tr>\n",
       "      <th>1</th>\n",
       "      <td>GU and RELMNG</td>\n",
       "      <td>0.3992</td>\n",
       "      <td>0.3545</td>\n",
       "    </tr>\n",
       "  </tbody>\n",
       "</table>\n",
       "</div>"
      ],
      "text/plain": [
       "          Attributes  Silhouetter Score  Sampling Silhouetter Score\n",
       "3  REFMNG and RELMNG             0.4685                      0.4807\n",
       "5      RELMNG and EL             0.5071                      0.4583\n",
       "4      REFMNG and EL             0.4903                      0.4439\n",
       "2          GU and EL             0.2988                      0.3910\n",
       "0      GU and REFMNG             0.2401                      0.3811\n",
       "1      GU and RELMNG             0.3992                      0.3545"
      ]
     },
     "execution_count": 32,
     "metadata": {},
     "output_type": "execute_result"
    }
   ],
   "source": [
    "#Silhouette\n",
    "\n",
    "lc=list(df.columns)\n",
    "lc2=lc.copy()\n",
    "ahsilhlist=[]\n",
    "\n",
    "for n1 in lc:\n",
    "    #print('Correlation for '+n1)\n",
    "    #print(lc.index(n1))\n",
    "    lc2.remove(n1)\n",
    "    for n2 in lc2:\n",
    "        aa1=lc.index(n1)\n",
    "        aa2=lc.index(n2)\n",
    "        name2=str(n1 +' and '+n2)\n",
    "        xatt2=df.iloc[:,lambda df: [aa1, aa2]]\n",
    "        modelac2 = AgglomerativeClustering(n_clusters=numk, linkage='complete')\n",
    "        modelac2.fit(xatt2)\n",
    "        ahscoresm = metrics.silhouette_score(xatt2, modelac2.labels_, metric='euclidean')\n",
    "        ahscoresm=round(ahscoresm,4)\n",
    "        \n",
    "        xattsm=dfsm.iloc[:,lambda dfsm: [aa1, aa2]]\n",
    "        modelacsm = AgglomerativeClustering(n_clusters=numk, linkage='complete')\n",
    "        modelacsm.fit(xattsm)\n",
    "        ahscoresmsm = metrics.silhouette_score(xattsm, modelacsm.labels_, metric='euclidean')\n",
    "        ahscoresmsm=round(ahscoresmsm,4)\n",
    "        \n",
    "        ahsilhitem=[name2,ahscoresm,ahscoresmsm]\n",
    "        ahsilhlist.append(ahsilhitem)\n",
    "\n",
    "ahsilhdf2 = pd.DataFrame(ahsilhlist, columns =['Attributes','Silhouetter Score','Sampling Silhouetter Score'])\n",
    "ahsilhdf2.sort_values(by='Sampling Silhouetter Score',ascending=False).head(10)"
   ]
  },
  {
   "cell_type": "code",
   "execution_count": 33,
   "metadata": {},
   "outputs": [
    {
     "data": {
      "text/html": [
       "<div>\n",
       "<style scoped>\n",
       "    .dataframe tbody tr th:only-of-type {\n",
       "        vertical-align: middle;\n",
       "    }\n",
       "\n",
       "    .dataframe tbody tr th {\n",
       "        vertical-align: top;\n",
       "    }\n",
       "\n",
       "    .dataframe thead th {\n",
       "        text-align: right;\n",
       "    }\n",
       "</style>\n",
       "<table border=\"1\" class=\"dataframe\">\n",
       "  <thead>\n",
       "    <tr style=\"text-align: right;\">\n",
       "      <th></th>\n",
       "      <th>Attributes</th>\n",
       "      <th>DunnIndex</th>\n",
       "      <th>Sampling DunnIndex</th>\n",
       "    </tr>\n",
       "  </thead>\n",
       "  <tbody>\n",
       "    <tr>\n",
       "      <th>0</th>\n",
       "      <td>GU and REFMNG</td>\n",
       "      <td>0.6727</td>\n",
       "      <td>0.7071</td>\n",
       "    </tr>\n",
       "    <tr>\n",
       "      <th>2</th>\n",
       "      <td>GU and EL</td>\n",
       "      <td>0.5812</td>\n",
       "      <td>0.6667</td>\n",
       "    </tr>\n",
       "    <tr>\n",
       "      <th>3</th>\n",
       "      <td>REFMNG and RELMNG</td>\n",
       "      <td>0.6773</td>\n",
       "      <td>0.6041</td>\n",
       "    </tr>\n",
       "    <tr>\n",
       "      <th>5</th>\n",
       "      <td>RELMNG and EL</td>\n",
       "      <td>0.5872</td>\n",
       "      <td>0.5712</td>\n",
       "    </tr>\n",
       "    <tr>\n",
       "      <th>4</th>\n",
       "      <td>REFMNG and EL</td>\n",
       "      <td>0.4851</td>\n",
       "      <td>0.5423</td>\n",
       "    </tr>\n",
       "    <tr>\n",
       "      <th>1</th>\n",
       "      <td>GU and RELMNG</td>\n",
       "      <td>0.5547</td>\n",
       "      <td>0.5270</td>\n",
       "    </tr>\n",
       "  </tbody>\n",
       "</table>\n",
       "</div>"
      ],
      "text/plain": [
       "          Attributes  DunnIndex  Sampling DunnIndex\n",
       "0      GU and REFMNG     0.6727              0.7071\n",
       "2          GU and EL     0.5812              0.6667\n",
       "3  REFMNG and RELMNG     0.6773              0.6041\n",
       "5      RELMNG and EL     0.5872              0.5712\n",
       "4      REFMNG and EL     0.4851              0.5423\n",
       "1      GU and RELMNG     0.5547              0.5270"
      ]
     },
     "execution_count": 33,
     "metadata": {},
     "output_type": "execute_result"
    }
   ],
   "source": [
    "#dunnindex Hierarchical\n",
    "\n",
    "\n",
    "from sklearn.metrics.pairwise import euclidean_distances\n",
    "\n",
    "lc=list(df.columns)\n",
    "lc2=lc.copy()\n",
    "acdunnlist=[]\n",
    "diameter_method='farthest'\n",
    "cdist_method='nearest'\n",
    "\n",
    "for n1 in lc:\n",
    "    #print('Correlation for '+n1)\n",
    "    #print(lc.index(n1))\n",
    "    lc2.remove(n1)\n",
    "    for n2 in lc2:\n",
    "        aa1=lc.index(n1)\n",
    "        aa2=lc.index(n2)\n",
    "        name2=str(n1 +' and '+n2)\n",
    "        xatt2=df.iloc[:,lambda df: [aa1, aa2]]\n",
    "        modelac2 = AgglomerativeClustering(n_clusters=numk, linkage='complete')\n",
    "        k = modelac2.fit_predict(xatt2)\n",
    "        d = euclidean_distances(xatt2)\n",
    "        acdunk = 10*dunn(k, d, diameter_method, cdist_method)\n",
    "        acdunk=round(acdunk,4)\n",
    "        \n",
    "        \n",
    "        xatt2sm=dfsm.iloc[:,lambda df: [aa1, aa2]]\n",
    "        modelac2sm = AgglomerativeClustering(n_clusters=numk, linkage='complete')\n",
    "        ksm = modelac2sm.fit_predict(xatt2sm)\n",
    "        dsm = euclidean_distances(xatt2sm)\n",
    "        acsmdunk = 10*dunn(ksm, dsm, diameter_method, cdist_method)\n",
    "        acsmdunk=round(acsmdunk,4)\n",
    "        \n",
    "        acdunnitem=[name2,acdunk,acsmdunk]\n",
    "        acdunnlist.append(acdunnitem)\n",
    "\n",
    "acdunndf = pd.DataFrame(acdunnlist, columns =['Attributes','DunnIndex','Sampling DunnIndex'])\n",
    "acdunndf.sort_values(by='Sampling DunnIndex',ascending=False).head(10)\n"
   ]
  },
  {
   "cell_type": "code",
   "execution_count": 34,
   "metadata": {},
   "outputs": [
    {
     "data": {
      "text/html": [
       "<div>\n",
       "<style scoped>\n",
       "    .dataframe tbody tr th:only-of-type {\n",
       "        vertical-align: middle;\n",
       "    }\n",
       "\n",
       "    .dataframe tbody tr th {\n",
       "        vertical-align: top;\n",
       "    }\n",
       "\n",
       "    .dataframe thead th {\n",
       "        text-align: right;\n",
       "    }\n",
       "</style>\n",
       "<table border=\"1\" class=\"dataframe\">\n",
       "  <thead>\n",
       "    <tr style=\"text-align: right;\">\n",
       "      <th></th>\n",
       "      <th>Attributes</th>\n",
       "      <th>Davies</th>\n",
       "      <th>Sampling Davies</th>\n",
       "    </tr>\n",
       "  </thead>\n",
       "  <tbody>\n",
       "    <tr>\n",
       "      <th>0</th>\n",
       "      <td>GU and REFMNG</td>\n",
       "      <td>1.0296</td>\n",
       "      <td>0.9013</td>\n",
       "    </tr>\n",
       "    <tr>\n",
       "      <th>1</th>\n",
       "      <td>GU and RELMNG</td>\n",
       "      <td>0.9219</td>\n",
       "      <td>1.1124</td>\n",
       "    </tr>\n",
       "    <tr>\n",
       "      <th>2</th>\n",
       "      <td>GU and EL</td>\n",
       "      <td>1.1710</td>\n",
       "      <td>0.8579</td>\n",
       "    </tr>\n",
       "    <tr>\n",
       "      <th>3</th>\n",
       "      <td>REFMNG and RELMNG</td>\n",
       "      <td>0.7120</td>\n",
       "      <td>0.6639</td>\n",
       "    </tr>\n",
       "    <tr>\n",
       "      <th>4</th>\n",
       "      <td>REFMNG and EL</td>\n",
       "      <td>0.5246</td>\n",
       "      <td>0.6433</td>\n",
       "    </tr>\n",
       "    <tr>\n",
       "      <th>5</th>\n",
       "      <td>RELMNG and EL</td>\n",
       "      <td>0.7618</td>\n",
       "      <td>0.8921</td>\n",
       "    </tr>\n",
       "  </tbody>\n",
       "</table>\n",
       "</div>"
      ],
      "text/plain": [
       "          Attributes  Davies  Sampling Davies\n",
       "0      GU and REFMNG  1.0296           0.9013\n",
       "1      GU and RELMNG  0.9219           1.1124\n",
       "2          GU and EL  1.1710           0.8579\n",
       "3  REFMNG and RELMNG  0.7120           0.6639\n",
       "4      REFMNG and EL  0.5246           0.6433\n",
       "5      RELMNG and EL  0.7618           0.8921"
      ]
     },
     "execution_count": 34,
     "metadata": {},
     "output_type": "execute_result"
    }
   ],
   "source": [
    "from sklearn.metrics import davies_bouldin_score\n",
    "\n",
    "lc=list(df.columns)\n",
    "lc2=lc.copy()\n",
    "davieslist=[]\n",
    "diameter_method='farthest'\n",
    "cdist_method='nearest'\n",
    "\n",
    "\n",
    "for n1 in lc:\n",
    "    #print('Correlation for '+n1)\n",
    "    #print(lc.index(n1))\n",
    "    lc2.remove(n1)\n",
    "    for n2 in lc2:\n",
    "        aa1=lc.index(n1)\n",
    "        aa2=lc.index(n2)\n",
    "        name2=str(n1 +' and '+n2)\n",
    "        xatt2=df.iloc[:,lambda df: [aa1, aa2]]\n",
    "        modelac2 = AgglomerativeClustering(n_clusters=numk, linkage='complete')\n",
    "        modelac2.fit(xatt2)\n",
    "        labels = modelac2.labels_\n",
    "        dab=davies_bouldin_score(xatt2, labels)\n",
    "        dab=round(dab,4)\n",
    "        \n",
    "        \n",
    "        xattsm=dfsm.iloc[:,lambda dfsm: [aa1, aa2]]\n",
    "        modelacsm = AgglomerativeClustering(n_clusters=numk, linkage='complete')\n",
    "        modelacsm.fit(xattsm)\n",
    "        labelsm = modelacsm.labels_\n",
    "        dabsm=davies_bouldin_score(xattsm, labelsm)\n",
    "        dabsm=round(dabsm,4)\n",
    "        \n",
    "        \n",
    "        daviesitem=[name2,dab,dabsm]\n",
    "        davieslist.append(daviesitem)\n",
    "\n",
    "daviesdf = pd.DataFrame(davieslist, columns =['Attributes','Davies','Sampling Davies'])\n",
    "daviesdf.head(10)"
   ]
  },
  {
   "cell_type": "markdown",
   "metadata": {},
   "source": [
    "# Random Forest"
   ]
  },
  {
   "cell_type": "code",
   "execution_count": 35,
   "metadata": {},
   "outputs": [
    {
     "name": "stdout",
     "output_type": "stream",
     "text": [
      "     REFMNG  RELMNG\n",
      "126       9       3\n",
      "105      16       2\n",
      "85        0       0\n",
      "192      17       8\n",
      "172      12      10\n",
      "..      ...     ...\n",
      "62       11       3\n",
      "36        5       3\n",
      "220      17      20\n",
      "247      13      28\n",
      "182      17       5\n",
      "\n",
      "[610 rows x 2 columns]\n"
     ]
    }
   ],
   "source": [
    "a1=1\n",
    "a2=2\n",
    "xsm=dfsm.iloc[:,lambda df: [a1,a2]]\n",
    "print(xsm)"
   ]
  },
  {
   "cell_type": "code",
   "execution_count": 36,
   "metadata": {},
   "outputs": [],
   "source": [
    "krf= KMeans(numk)\n",
    "krf.fit(xsm)\n",
    "ykm= krf.labels_\n",
    "\n",
    "acrf = AgglomerativeClustering(n_clusters=numk, linkage='complete')\n",
    "acrf.fit(xsm)\n",
    "yac=acrf.labels_"
   ]
  },
  {
   "cell_type": "code",
   "execution_count": 37,
   "metadata": {},
   "outputs": [],
   "source": [
    "from sklearn.preprocessing import LabelEncoder\n",
    "from sklearn.utils import resample\n",
    "from sklearn.model_selection import train_test_split\n",
    "\n",
    "\n",
    "xkm_train,xkm_test,ykm_train,ykm_test= train_test_split(xsm,ykm,test_size=0.3,random_state=0)\n",
    "xac_train,xac_test,yac_train,yac_test= train_test_split(xsm,yac,test_size=0.3,random_state=0)\n"
   ]
  },
  {
   "cell_type": "code",
   "execution_count": 38,
   "metadata": {},
   "outputs": [
    {
     "data": {
      "text/plain": [
       "Text(0.5, 24.0, 'Predicted label')"
      ]
     },
     "execution_count": 38,
     "metadata": {},
     "output_type": "execute_result"
    },
    {
     "data": {
      "image/png": "[encoded data removed]",
      "text/plain": [
       "<Figure size 576x360 with 2 Axes>"
      ]
     },
     "metadata": {
      "needs_background": "light"
     },
     "output_type": "display_data"
    }
   ],
   "source": [
    "from sklearn.ensemble import RandomForestClassifier\n",
    "\n",
    "#max_depth=6,,min_samples_leaf=2,n_estimators=100\n",
    "crfm=RandomForestClassifier(max_depth=17)\n",
    "\n",
    "#Train the model using the training sets y_pred=clf.predict(X_test)\n",
    "crfm.fit(xkm_train,ykm_train)\n",
    "\n",
    "ykm_pred=crfm.predict(xkm_test)\n",
    "\n",
    "cmrfm=confusion_matrix(ykm_test, ykm_pred)\n",
    "\n",
    "# Transform to dataframe for easier plotting\n",
    "cmrfm_df=pd.DataFrame(cmrfm) \n",
    "\n",
    "plt.figure(figsize=(8,5))\n",
    "sns.heatmap(cmrfm_df, annot=True,linewidths=1, fmt = 'd')\n",
    "\n",
    "plt.title(\"Random Forest Accuracy:\"+str(crfm.score(xkm_test,ykm_test)*100))\n",
    "plt.ylabel('True label')\n",
    "plt.xlabel('Predicted label')"
   ]
  },
  {
   "cell_type": "code",
   "execution_count": 39,
   "metadata": {},
   "outputs": [
    {
     "data": {
      "text/plain": [
       "Text(0.5, 24.0, 'Predicted label')"
      ]
     },
     "execution_count": 39,
     "metadata": {},
     "output_type": "execute_result"
    },
    {
     "data": {
      "image/png": "[encoded data removed]",
      "text/plain": [
       "<Figure size 576x360 with 2 Axes>"
      ]
     },
     "metadata": {
      "needs_background": "light"
     },
     "output_type": "display_data"
    }
   ],
   "source": [
    "from sklearn.ensemble import RandomForestClassifier\n",
    "\n",
    "#max_depth=6,,min_samples_leaf=2,n_estimators=100\n",
    "crfa=RandomForestClassifier(max_depth=17)\n",
    "\n",
    "#Train the model using the training sets y_pred=clf.predict(X_test)\n",
    "crfa.fit(xac_train,yac_train)\n",
    "\n",
    "yac_pred=crfa.predict(xac_test)\n",
    "\n",
    "cmrfa=confusion_matrix(yac_test, yac_pred)\n",
    "\n",
    "# Transform to dataframe for easier plotting\n",
    "cmrfa_df=pd.DataFrame(cmrfa) \n",
    "\n",
    "plt.figure(figsize=(8,5))\n",
    "sns.heatmap(cmrfa_df, annot=True,linewidths=1, fmt = 'd')\n",
    "\n",
    "plt.title(\"Random Forest Accuracy:\"+str(crfa.score(xac_test,yac_test)*100))\n",
    "plt.ylabel('True label')\n",
    "plt.xlabel('Predicted label')"
   ]
  },
  {
   "cell_type": "code",
   "execution_count": null,
   "metadata": {},
   "outputs": [],
   "source": []
  }
 ],
 "metadata": {
  "kernelspec": {
   "display_name": "Python 3",
   "language": "python",
   "name": "python3"
  },
  "language_info": {
   "codemirror_mode": {
    "name": "ipython",
    "version": 3
   },
   "file_extension": ".py",
   "mimetype": "text/x-python",
   "name": "python",
   "nbconvert_exporter": "python",
   "pygments_lexer": "ipython3",
   "version": "3.8.8"
  }
 },
 "nbformat": 4,
 "nbformat_minor": 2
}
